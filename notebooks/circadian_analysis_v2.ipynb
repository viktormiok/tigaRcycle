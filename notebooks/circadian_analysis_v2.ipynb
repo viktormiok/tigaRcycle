{
 "cells": [
  {
   "cell_type": "code",
   "execution_count": 1,
   "metadata": {},
   "outputs": [],
   "source": [
    "# to do:\n",
    "# Make function for bar plot and add legend - light and dark phase\n",
    "# address the problem of mean calculation of data_summary function in plotting per gene plot\n",
    "# add time point title for circular plot"
   ]
  },
  {
   "cell_type": "markdown",
   "metadata": {},
   "source": [
    "### Load the packages"
   ]
  },
  {
   "cell_type": "code",
   "execution_count": 2,
   "metadata": {},
   "outputs": [],
   "source": [
    "inst <- suppressMessages(lapply(c(\"edgeR\",\n",
    "                                  \"MetaCycle\",\n",
    "                                  \"lubridate\",\n",
    "                                  \"plyr\",\n",
    "                                  \"dplyr\",\n",
    "                                  \"tidyr\",\n",
    "                                  \"RColorBrewer\",\n",
    "                                  \"ggplot2\",\n",
    "                                  \"gplots\",\n",
    "                                  \"grid\",\n",
    "                                  \"gridExtra\",\n",
    "                                  \"DESeq2\",\n",
    "                                  \"VennDiagram\",\n",
    "                                  \"org.Rn.eg.db\",\n",
    "                                  \"clusterProfiler\",\n",
    "                                  \"pheatmap\",\n",
    "                                  \"ShrinkBayes\",\n",
    "                                  \"Hmisc\",\n",
    "                                  \"circlize\",\n",
    "                                  \"lineup\",\n",
    "                                  \"globaltest\",\n",
    "                                  \"readxl\",\n",
    "                                  \"multipanelfigure\",\n",
    "                                  \"UpSetR\",\n",
    "                                  \"ggrepel\",\n",
    "                                  \"huge\",\n",
    "                                  \"ragt2ridges\"\n",
    "                                ),\n",
    "                                library,\n",
    "                                character.only=TRUE)\n",
    ") \n",
    "# set the directory\n",
    "dir_out = '~/Documents/consultation/ChunXia/Rat_timedata/circadian_rat/results'\n",
    "dir_tab = file.path(dir_out, 'tables')\n",
    "dir_fig = file.path(dir_out, 'figures')\n",
    "dir_dat = file.path(dir_out, 'anndata')\n",
    "\n",
    "# set the colors and options\n",
    "colors <- colorRampPalette(rev(brewer.pal(9, \"Spectral\")))(n=255)\n",
    "my_palette <- colorRampPalette(c(\"blue\", \"white\", \"red\"))(n=255)\n",
    "options(repr.plot.width=10, repr.plot.height=10)"
   ]
  },
  {
   "cell_type": "markdown",
   "metadata": {},
   "source": [
    "### Set the global variables"
   ]
  },
  {
   "cell_type": "markdown",
   "metadata": {},
   "source": [
    "Set whether anndata objects are recomputed or loaded from cache."
   ]
  },
  {
   "cell_type": "code",
   "execution_count": 3,
   "metadata": {},
   "outputs": [],
   "source": [
    "bool_recomp = FALSE"
   ]
  },
  {
   "cell_type": "markdown",
   "metadata": {},
   "source": [
    "Set whether to produce plots, set to False for test runs."
   ]
  },
  {
   "cell_type": "code",
   "execution_count": 4,
   "metadata": {},
   "outputs": [],
   "source": [
    "bool_plot = FALSE"
   ]
  },
  {
   "cell_type": "markdown",
   "metadata": {},
   "source": [
    "### Load data and functions"
   ]
  },
  {
   "cell_type": "code",
   "execution_count": 5,
   "metadata": {
    "scrolled": true
   },
   "outputs": [],
   "source": [
    "# set input file\n",
    "setwd('~/Documents/consultation/ChunXia/Rat_timedata/circadian_rat/input')\n",
    "# load the data\n",
    "dat=read.csv('circadian_data.csv', row.names=1)\n",
    "pfdat <- read.csv(\"additional_data.txt\", sep='')\n",
    "\n",
    "# load the functions\n",
    "source('circadian_functions.R')\n",
    "source('tigaR_functions.R')\n",
    "\n",
    "# define the conditions\n",
    "id <- colnames(dat)\n",
    "tissue <- c(rep(\"hippo\", 60), rep(\"hpt\", 60))\n",
    "timepoint <- as.factor(rep(c(rep(2, 5), rep(6, 5), rep(10, 5), rep(14, 5), rep(18, 5), rep(22, 5)), 4))\n",
    "tigar_tp <- rep(1:6,20)\n",
    "diet <- c(rep(\"chow\", 30), rep(\"hfd\", 30), rep(\"chow\", 30), rep(\"hfd\", 30))\n",
    "condition <- paste(tissue, timepoint, diet, sep='')\n",
    "tissue_diet <- paste(tissue, diet, sep='_')\n",
    "\n",
    "# load the target genes per group\n",
    "if(bool_recomp){\n",
    "    groups = c('clock', 'obesity', 'diabetes', 'synapticPlastisty', 'insulinPath', 'cytokinRecpt', 'fattyAcidMetab',\n",
    "             'glucoseMetab', 'tightJunction', 'endothelia', 'Pathways', 'KEGG', 'hpt_hip_genes')\n",
    "\n",
    "    targetGenes <- list()\n",
    "    for(i in 1:length(groups)){\n",
    "        targetGenes[[groups[i]]] <- pull(read_excel('target_genes.xlsx',\n",
    "                                                    sheet=i)[,3])\n",
    "    }\n",
    "    saveRDS(targetGenes, file.path(dir_dat, 'target_genes.RDS'))\n",
    "} else{\n",
    "    targetGenes = readRDS(file.path(dir_dat, 'target_genes.RDS'))\n",
    "}"
   ]
  },
  {
   "cell_type": "markdown",
   "metadata": {},
   "source": [
    "### Filtering"
   ]
  },
  {
   "cell_type": "code",
   "execution_count": 6,
   "metadata": {},
   "outputs": [
    {
     "data": {
      "text/html": [
       "<style>\n",
       ".list-inline {list-style: none; margin:0; padding: 0}\n",
       ".list-inline>li {display: inline-block}\n",
       ".list-inline>li:not(:last-child)::after {content: \"\\00b7\"; padding: 0 .5ex}\n",
       "</style>\n",
       "<ol class=list-inline><li>13432</li><li>109</li></ol>\n"
      ],
      "text/latex": [
       "\\begin{enumerate*}\n",
       "\\item 13432\n",
       "\\item 109\n",
       "\\end{enumerate*}\n"
      ],
      "text/markdown": [
       "1. 13432\n",
       "2. 109\n",
       "\n",
       "\n"
      ],
      "text/plain": [
       "[1] 13432   109"
      ]
     },
     "metadata": {},
     "output_type": "display_data"
    }
   ],
   "source": [
    "# Remove problematics samples and make a metadata for DESeq object\n",
    "prob_samp <- c(\"hippoTP2hfd.2\", \"hptTP2hfd.2\", \"hippoTP14chow.2\", \"hptTP14chow.2\", \"hippoTP18chow.2\",\n",
    "               \"hptTP18chow.2\", \"hippoTP22chow.2\", \"hptTP22chow.2\", \"hptTP18hfd\", \"hippoTP6chow\", \"hippoTP6chow.2\") \n",
    "\n",
    "if(bool_recomp){\n",
    "    tissue_tp <- paste(tissue,timepoint, sep='')\n",
    "    tp_sum <- row_sum <- numeric()\n",
    "    for(i in unique(tissue_tp)){\n",
    "        tp_sum <- cbind(tp_sum,rowSums(dat[,tissue_tp == i])) # sum of the counts per timepoint both for chow and hfd\n",
    "        row_sum <- cbind(row_sum,rowSums(dat[,tissue_tp == i] != 0)) # count the number of sample with count >0\n",
    "    }\n",
    "    #Keep genes with more then 3 samples with >0 number of counts per each timepoint(both chow and hfd)\n",
    "    keep <- rowSums(row_sum < 4) < 2 \n",
    "    dat <- dat[keep,]\n",
    "    tp_sum <- tp_sum[keep,]\n",
    "\n",
    "    # Keep the genes which have sum of the counts per timepoint(both chow and hfd) higher then 100\n",
    "    dat_filt <- dat[rowSums(tp_sum >= 100) >= 12,]\n",
    "\n",
    "    # Remove redundant genes\n",
    "    #dat_filt <- dat_filt[-(grep(\"^(Fam|Tmem|NEWGENE|MGC|RT1|RGD|AC|LOC|AABR|mt|Rp(l|s)|Gm\\\\d)\",\n",
    "    #                            rownames(dat_filt))),]  \n",
    "    \n",
    "    dat_filt <- dat_filt[-(grep(\"^(AC|LOC|NEWGENE_6|AABR\\\\d)\",\n",
    "                                rownames(dat_filt))),]  \n",
    "    \n",
    "    # Remove problematic samples\n",
    "    dat_filt <- dat_filt[,!colnames(dat_filt) %in% prob_samp]\n",
    "    # Save the filtered raw data \n",
    "    write.csv(dat_filt, file.path(dir_dat, 'raw_filt_data.csv'))\n",
    "} else{\n",
    "    dat_filt = read.csv(file.path(dir_dat, 'raw_filt_data.csv'), \n",
    "                        row.names=1\n",
    "    )\n",
    "}\n",
    "dim(dat_filt)"
   ]
  },
  {
   "cell_type": "markdown",
   "metadata": {},
   "source": [
    "### DESeq2 object"
   ]
  },
  {
   "cell_type": "code",
   "execution_count": 7,
   "metadata": {},
   "outputs": [
    {
     "name": "stderr",
     "output_type": "stream",
     "text": [
      "Warning message in DESeqDataSet(se, design = design, ignoreRank):\n",
      "“some variables in design formula are characters, converting to factors”\n"
     ]
    }
   ],
   "source": [
    "# conditions\n",
    "id <- id[!colnames(dat) %in% prob_samp]\n",
    "tissue <- tissue[!colnames(dat) %in% prob_samp]\n",
    "timepoint <- timepoint[!colnames(dat) %in% prob_samp]\n",
    "tigar_tp <- tigar_tp[!colnames(dat) %in% prob_samp]\n",
    "diet <- diet[!colnames(dat) %in% prob_samp]\n",
    "condition <- condition[!colnames(dat) %in% prob_samp]\n",
    "tissue_diet <- tissue_diet[!colnames(dat) %in% prob_samp]\n",
    "# meta data\n",
    "metaData <- data.frame(id, tissue, timepoint, diet, condition)\n",
    "\n",
    "# DESeq object\n",
    "dds <- DESeqDataSetFromMatrix(countData=dat_filt,\n",
    "                              colData=metaData,\n",
    "                              design =~ timepoint + diet + tissue\n",
    ")"
   ]
  },
  {
   "cell_type": "code",
   "execution_count": 8,
   "metadata": {},
   "outputs": [],
   "source": [
    "# normalized data\n",
    "if(bool_recomp){\n",
    "    # estimate size factors\n",
    "    dds <- estimateSizeFactors(dds)\n",
    "    dat_norm <- round(counts(dds, normalized=TRUE), 0)\n",
    "    # save the normalized data\n",
    "    write.csv(dat_norm, \n",
    "              file.path(dir_dat, \"normalized_data.csv\"),\n",
    "              row.names=TRUE\n",
    "    )\n",
    "} else{\n",
    "    dat_norm = read.csv(file.path(dir_dat, 'raw_filt_data.csv'), \n",
    "                        row.names=1\n",
    "    )\n",
    "}"
   ]
  },
  {
   "cell_type": "code",
   "execution_count": 9,
   "metadata": {},
   "outputs": [],
   "source": [
    "# variance stabilizing transformation data\n",
    "vsd <- assay(vst(dds, \n",
    "                 fitType=\"local\",\n",
    "                 blind=TRUE\n",
    "             )\n",
    "        )"
   ]
  },
  {
   "cell_type": "markdown",
   "metadata": {},
   "source": [
    "### Visualize samples"
   ]
  },
  {
   "cell_type": "code",
   "execution_count": 10,
   "metadata": {
    "scrolled": false
   },
   "outputs": [],
   "source": [
    "# PCA plot\n",
    "if(bool_plot){\n",
    "    pcaData <- plotPCA(vst(dds, fitType=\"local\"),\n",
    "                       intgroup=c(\"condition\"),\n",
    "                       returnData=TRUE\n",
    "                )\n",
    "    percentVar <- round(100 * attr(pcaData, \"percentVar\"))\n",
    "    pca <- ggplot(pcaData, aes(PC1, PC2, color=condition)) +\n",
    "                  geom_point(size=3) +\n",
    "                  geom_label(aes(label=colnames(dat_filt))) +\n",
    "                  xlab(paste0(\"PC1: \", percentVar[1], \"% variance\")) + \n",
    "                  ylab(paste0(\"PC2: \", percentVar[2], \"% variance\")) +\n",
    "                  guides(color=guide_legend(ncol=1)) +\n",
    "                  ggtitle(\"PCA Plot\")\n",
    "    \n",
    "    ggsave(file.path(dir_fig, \"pca_plot.pdf\"))\n",
    "    print(pca)\n",
    "}"
   ]
  },
  {
   "cell_type": "code",
   "execution_count": 11,
   "metadata": {},
   "outputs": [],
   "source": [
    "# sample distances matrix heatmap\n",
    "if(bool_plot){\n",
    "    sampleDistMatrix <- as.matrix(dist(t(vsd)))\n",
    "\n",
    "    # Data frame with column annotations.\n",
    "    col_ann <- as.data.frame(colData(dds)[, c('diet', 'timepoint', 'tissue')])\n",
    "    rownames(col_ann) <- colnames(sampleDistMatrix)\n",
    "\n",
    "    # List with colors for each annotation.\n",
    "    ann_colors <- list(condition=brewer.pal(12, \"Set3\"))\n",
    "    names(ann_colors$condition) <- unique(colData(dds)$timepoint)\n",
    "    \n",
    "    sdm <- pheatmap(sampleDistMatrix,\n",
    "                    clustering_distance_rows=dist(t(vsd)),\n",
    "                    clustering_distance_cols=dist(t(vsd)),\n",
    "                    show_colnames=TRUE,\n",
    "                    show_rownames=FALSE,\n",
    "                    annotation=col_ann,\n",
    "                    annotation_colors=ann_colors,\n",
    "                    col=colors\n",
    "    )\n",
    "    save_pheatmap_pdf(sdm,\n",
    "                      file.path(dir_fig, \"sample_distance_heatmap.pdf\"))\n",
    "}"
   ]
  },
  {
   "cell_type": "code",
   "execution_count": 12,
   "metadata": {
    "scrolled": false
   },
   "outputs": [],
   "source": [
    "# Heatmpa of all samples and genes\n",
    "if(bool_plot){  \n",
    "    agsh <- pheatmap(vsd,\n",
    "                     cluster_rows=T, \n",
    "                     scale=\"row\", \n",
    "                     show_rownames=FALSE, \n",
    "                     color=my_palette,\n",
    "                     cluster_cols=T, \n",
    "                     annotation_col=as.data.frame(colData(dds)[,c(\"diet\", \"timepoint\", \"tissue\")]),\n",
    "                     fontsize=8,\n",
    "                     breaks=seq(-5, 5, length.out=255)\n",
    "    )\n",
    "    save_pheatmap_pdf(agsh,\n",
    "                      file.path(dir_fig, \"all_genes_samples_heatmap.pdf\"))\n",
    "}"
   ]
  },
  {
   "cell_type": "markdown",
   "metadata": {},
   "source": [
    "## Circadian gene expression analysis"
   ]
  },
  {
   "cell_type": "code",
   "execution_count": 13,
   "metadata": {},
   "outputs": [],
   "source": [
    "# write into .csv files data for JTK\n",
    "if(bool_recomp){\n",
    "    # dat_norm - counts normalised data\n",
    "    # vsd - continious normalised data\n",
    "    write.csv(cbind(GeneName=rownames(dat_norm), dat_norm[,tissue_diet %in% \"hippo_chow\"]),\n",
    "              file=\"hippoChow.csv\",\n",
    "              row.names=FALSE\n",
    "    )\n",
    "    write.csv(cbind(GeneName=rownames(dat_norm), dat_norm[,tissue_diet %in% \"hippo_hfd\"]),\n",
    "              file=\"hippoHFD.csv\",\n",
    "              row.names=FALSE\n",
    "    )\n",
    "    write.csv(cbind(GeneName=rownames(dat_norm), dat_norm[,tissue_diet %in% \"hpt_chow\"]), \n",
    "              file=\"hptChow.csv\",\n",
    "              row.names=FALSE\n",
    "    )\n",
    "    write.csv(cbind(GeneName=rownames(dat_norm), dat_norm[,tissue_diet %in% \"hpt_hfd\"]),\n",
    "              file=\"hptHFD.csv\", \n",
    "              row.names=FALSE\n",
    "    ) \n",
    "}"
   ]
  },
  {
   "cell_type": "code",
   "execution_count": 14,
   "metadata": {},
   "outputs": [],
   "source": [
    "# legend of the plot\n",
    "legs <- c(\"chow samples\", \"hfd samples\")\n",
    "\n",
    "legc <- c(\"lightskyblue\", \"indianred1\")\n",
    "# colors for volcano plot\n",
    "legv <- c(\"red\", \"grey\")\n",
    "\n",
    "# colors for circular plot of target genes\n",
    "legcir_colo <- brewer.pal(10, \"BrBG\")"
   ]
  },
  {
   "cell_type": "markdown",
   "metadata": {},
   "source": [
    "### Hippocampus Chow"
   ]
  },
  {
   "cell_type": "code",
   "execution_count": 15,
   "metadata": {
    "scrolled": true
   },
   "outputs": [],
   "source": [
    "# circadian genes using JTK\n",
    "if(bool_recomp){\n",
    "    hipChow <- rhythm_gene(infile=\"hippoChow.csv\",\n",
    "                           filestyle=\"csv\",\n",
    "                           method=\"JTK\",#\"JTK\",#tigar\n",
    "                           family=\"nb\",\n",
    "                           timepoints=as.numeric(as.character(timepoint[tissue_diet %in% \"hippo_chow\"])), # MetaCycle\n",
    "                           #timepoints=tigar_tp[tissue_diet %in% \"hippo_chow\"], # tigaR\n",
    "                           knot=5, \n",
    "                           deg=3,\n",
    "                           ncpus=4\n",
    "    )\n",
    "    write.csv(hipChow, file.path(dir_tab, 'circadian_genes_hippo_chow.csv')\n",
    "    )\n",
    "} else {\n",
    "    hipChow = read.csv(file.path(dir_tab, 'circadian_genes_hippo_chow.csv'),\n",
    "                       row.names=1\n",
    "    )\n",
    "}\n",
    "# select significant genes\n",
    "hipC <- hipChow[hipChow$ADJ.P < 0.05,]"
   ]
  },
  {
   "cell_type": "code",
   "execution_count": 16,
   "metadata": {},
   "outputs": [],
   "source": [
    "# enrichment of selected pathways\n",
    "if(bool_recomp){\n",
    "    kkHipC <-  enrichSelectPath(genes=hipC[,1],\n",
    "                                selectPathway=targetGenes$KEGG,\n",
    "                                cut_off=0.05,\n",
    "                                name=\"hippo_chow\",\n",
    "                                orgdb=org.Rn.eg.db,\n",
    "                                organism='rno'\n",
    "    )\n",
    "    write.csv(kkHipC, \n",
    "              file.path(dir_tab, 'kegg_enrichment_circadian_hippo_chow.csv')\n",
    "    )\n",
    "} else {\n",
    "    kkHipC = read.csv(file.path(dir_tab, 'kegg_enrichment_circadian_hippo_chow.csv'), \n",
    "                      row.names=1\n",
    "    )\n",
    "}"
   ]
  },
  {
   "cell_type": "markdown",
   "metadata": {},
   "source": [
    "### Hippocampus HFD"
   ]
  },
  {
   "cell_type": "code",
   "execution_count": 17,
   "metadata": {},
   "outputs": [],
   "source": [
    "# circadian genes using JTK\n",
    "if(bool_recomp){\n",
    "    hipHfd <- rhythm_gene(infile=\"hippoHFD.csv\",\n",
    "                          filestyle=\"csv\",\n",
    "                          method=\"JTK\",\n",
    "                          family=\"nb\",\n",
    "                          timepoints=as.numeric(as.character(timepoint[tissue_diet %in% \"hippo_hfd\"])), # MetaCycle\n",
    "                          #timepoints=tigar_tp[tissue_diet %in% \"hippo_hfd\"], # tigaR\n",
    "                          knot=5, \n",
    "                          deg=3,\n",
    "                          ncpus=4\n",
    "    )\n",
    "    write.csv(hipHfd, \n",
    "              file.path(dir_tab, 'circadian_genes_hippo_hfd.csv')\n",
    "    )\n",
    "} else {\n",
    "    hipHfd = read.csv(file.path(dir_tab, 'circadian_genes_hippo_hfd.csv'),\n",
    "                      row.names=1\n",
    "    )\n",
    "}\n",
    "# select significant genes\n",
    "hipH <- hipHfd[hipHfd$ADJ.P < 0.05,]"
   ]
  },
  {
   "cell_type": "code",
   "execution_count": 18,
   "metadata": {},
   "outputs": [],
   "source": [
    "# enrichment of selected pathways\n",
    "if(bool_recomp){\n",
    "    kkHipH <-  enrichSelectPath(genes=hipH[,1],\n",
    "                                selectPathway=targetGenes$KEGG,\n",
    "                                cut_off=0.05,\n",
    "                                name=\"hippo_hfd\",\n",
    "                                orgdb=org.Rn.eg.db,\n",
    "                                organism='rno'\n",
    "    )\n",
    "    write.csv(kkHipH,\n",
    "              file.path(dir_tab, 'kegg_enrichment_circadian_hippo_hfd.csv')\n",
    "    )\n",
    "} else {\n",
    "    kkHipH = read.csv(file.path(dir_tab, 'kegg_enrichment_circadian_hippo_hfd.csv'), \n",
    "                      row.names=1\n",
    "    )\n",
    "}"
   ]
  },
  {
   "cell_type": "markdown",
   "metadata": {},
   "source": [
    "### Hypothalmus Chow"
   ]
  },
  {
   "cell_type": "code",
   "execution_count": 19,
   "metadata": {},
   "outputs": [],
   "source": [
    "# circadian genes using JTK\n",
    "if(bool_recomp){\n",
    "    hptChow <- rhythm_gene(infile=\"hptChow.csv\",\n",
    "                          filestyle=\"csv\",\n",
    "                          method=\"JTK\",\n",
    "                          family=\"nb\",\n",
    "                          timepoints=as.numeric(as.character(timepoint[tissue_diet %in% \"hpt_chow\"])),\n",
    "                          #timepoints=tigar_tp[tissue_diet %in% \"hpt_chow\"], # tigaR\n",
    "                          knot=5, \n",
    "                          deg=3,\n",
    "                          ncpus=4\n",
    "    )\n",
    "    write.csv(hptChow,\n",
    "              file.path(dir_tab, 'circadian_genes_hpt_chow.csv')\n",
    "    )\n",
    "} else {\n",
    "    hptChow = read.csv(file.path(dir_tab, 'circadian_genes_hpt_chow.csv'),\n",
    "                       row.names=1\n",
    "    )\n",
    "}\n",
    "hptC <- hptChow[hptChow$ADJ.P < 0.05,]"
   ]
  },
  {
   "cell_type": "code",
   "execution_count": 20,
   "metadata": {},
   "outputs": [],
   "source": [
    "# enrichment of selected pathways\n",
    "if(bool_recomp){\n",
    "    kkHptC <- enrichSelectPath(genes=hptC[,1],\n",
    "                               selectPathway=targetGenes$KEGG,\n",
    "                               cut_off=0.05,\n",
    "                               name=\"hpt_chow\",\n",
    "                               orgdb=org.Rn.eg.db,\n",
    "                               organism='rno'\n",
    "    )\n",
    "    write.csv(kkHptC, \n",
    "              file.path(dir_tab,'kegg_enrichment_circadian_hpt_chow.csv')\n",
    "    )\n",
    "} else {\n",
    "    kkHptC = read.csv(file.path(dir_tab,'kegg_enrichment_circadian_hpt_chow.csv'),\n",
    "                      row.names=1\n",
    "    )\n",
    "}"
   ]
  },
  {
   "cell_type": "markdown",
   "metadata": {},
   "source": [
    "### Hypothalmus HFD"
   ]
  },
  {
   "cell_type": "code",
   "execution_count": 21,
   "metadata": {},
   "outputs": [],
   "source": [
    "# circadian genes using JTK\n",
    "if(bool_recomp){\n",
    "    hptHfd <- rhythm_gene(infile=\"hptHFD.csv\",\n",
    "                          filestyle=\"csv\",\n",
    "                          method=\"JTK\",\n",
    "                          family=\"nb\",\n",
    "                          timepoints=as.numeric(as.character(timepoint[tissue_diet %in% \"hpt_hfd\"])),\n",
    "                          #timepoints=tigar_tp[tissue_diet %in% \"hpt_hfd\"], # tigaR\n",
    "                          knot=5, \n",
    "                          deg=3,\n",
    "                          ncpus=4\n",
    "    )\n",
    "    write.csv(hptHfd, \n",
    "              file.path(dir_tab,'circadian_genes_hpt_hfd.csv')\n",
    "    )\n",
    "} else {\n",
    "    hptHfd = read.csv(file.path(dir_tab,'circadian_genes_hpt_hfd.csv'),\n",
    "                      row.names=1\n",
    "    )\n",
    "}\n",
    "hptH <- hptHfd[hptHfd$ADJ.P < 0.05,]"
   ]
  },
  {
   "cell_type": "code",
   "execution_count": 22,
   "metadata": {},
   "outputs": [],
   "source": [
    "# enrichment of selected pathways\n",
    "if(bool_recomp){\n",
    "    kkHptH=enrichSelectPath(genes=hptH[,1],\n",
    "                              selectPathway=targetGenes$KEGG,\n",
    "                              cut_off=0.05,\n",
    "                              name=\"hpt_hfd\",\n",
    "                              orgdb=org.Rn.eg.db,\n",
    "                              organism='rno'\n",
    "    )\n",
    "    write.csv(kkHptH, \n",
    "              file.path(dir_tab,'kegg_enrichment_circadian_hpt_hfd.csv')\n",
    "    )\n",
    "} else{\n",
    "    kkHptH = read.csv(file.path(dir_tab,'kegg_enrichment_circadian_hpt_hfd.csv'),\n",
    "                      row.names=1  \n",
    "    )\n",
    "}"
   ]
  },
  {
   "cell_type": "markdown",
   "metadata": {},
   "source": [
    "## Visualize circadian genes "
   ]
  },
  {
   "cell_type": "code",
   "execution_count": 23,
   "metadata": {},
   "outputs": [],
   "source": [
    "# summarize data per time point using mean\n",
    "sp <- paste(tissue, diet, timepoint, sep='')\n",
    "\n",
    "sumdat <- numeric()\n",
    "for(i in unique(sp)){\n",
    "    sumdat <- cbind(sumdat, rowMeans(vsd[,sp == i])) # mean of the counts per timepoint and diet\n",
    "}\n",
    "\n",
    "colnames(sumdat) <- rep(c(\"TP2\", \"TP6\", \"TP10\", \"TP14\", \"TP18\", \"TP22\"), 4)"
   ]
  },
  {
   "cell_type": "markdown",
   "metadata": {},
   "source": [
    "### Hippocampus "
   ]
  },
  {
   "cell_type": "code",
   "execution_count": 24,
   "metadata": {},
   "outputs": [],
   "source": [
    "# circadian genes in chow hippocampus\n",
    "if(bool_plot){\n",
    "    circadian_heatmap(data=list(hippochow=hipC[,1], hippohfd=hipH[, 1]),                  \n",
    "                      colinf=sub(\"\\\\d.*\", \"\", unique(sp)),\n",
    "                      sumdat=sumdat,\n",
    "                      title=\"Hippo chow circadian genes\",\n",
    "                      filename=file.path(dir_fig, \"heatmap_circadian_hippo_chow.pdf\"),\n",
    "                      col=colors,\n",
    "                      distfun=dist.pear,\n",
    "                      hclustfun=hclust.ave,\n",
    "                      legs=legs,\n",
    "                      legc=legc\n",
    "    )\n",
    "}"
   ]
  },
  {
   "cell_type": "code",
   "execution_count": 25,
   "metadata": {},
   "outputs": [],
   "source": [
    "# circadian genes in chow hippocampus of glucose methabolism genes\n",
    "if(bool_plot){\n",
    "    circadian_heatmap(data=list(hippochow=intersect(hipC[,1],targetGenes$glucoseMetab),\n",
    "                                  hippohfd=intersect(hipH[, 1],targetGenes$glucoseMetab)),                  \n",
    "                      colinf=sub(\"\\\\d.*\", \"\", unique(sp)),\n",
    "                      sumdat=sumdat,\n",
    "                      title=\"Hippo chow circadian genesc - Glucose Methabolism\",\n",
    "                      filename=file.path(dir_fig, \"heatmap_circadian_hippo_chow_glucoseMetab.pdf\"),\n",
    "                      col=colors,\n",
    "                      distfun=dist.pear,\n",
    "                      hclustfun=hclust.ave,\n",
    "                      legs=legs,\n",
    "                      legc=legc\n",
    "    )\n",
    "}"
   ]
  },
  {
   "cell_type": "code",
   "execution_count": 26,
   "metadata": {},
   "outputs": [],
   "source": [
    "# circadian genes in hfd hippocampus\n",
    "if(bool_plot){ \n",
    "    circadian_heatmap(data=list(hippohfd=hipH[,1], hippochow=hipC[,1]),                  \n",
    "                      colinf=sub(\"\\\\d.*\", \"\", unique(sp)),\n",
    "                      sumdat=sumdat,\n",
    "                      title=\"Hippo hfd circadian genes\",\n",
    "                      filename=file.path(dir_fig, \"heatmap_circadian_hippo_hfd.pdf\"),\n",
    "                      col=colors,\n",
    "                      distfun=dist.pear,\n",
    "                      hclustfun=hclust.ave,\n",
    "                      legs=legs,\n",
    "                      legc=legc\n",
    "    )\n",
    "}"
   ]
  },
  {
   "cell_type": "code",
   "execution_count": 27,
   "metadata": {},
   "outputs": [],
   "source": [
    "# circadian genes in hfd hippocampus\n",
    "if(bool_plot){ \n",
    "    circadian_heatmap(data=list(hippohfd=intersect(hipH[,1],targetGenes$glucoseMetab), \n",
    "                                  hippochow=intersect(hipC[,1],targetGenes$glucoseMetab)),                  \n",
    "                      colinf=sub(\"\\\\d.*\", \"\", unique(sp)),\n",
    "                      sumdat=sumdat,\n",
    "                      title=\"Hippo hfd circadian genes - Glucose Methabolism\",\n",
    "                      filename=file.path(dir_fig, \"heatmap_circadian_hippo_hfd_glucoseMetab.pdf\"),\n",
    "                      col=colors,\n",
    "                      distfun=dist.pear,\n",
    "                      hclustfun=hclust.ave,\n",
    "                      legs=legs,\n",
    "                      legc=legc\n",
    "    )\n",
    "}"
   ]
  },
  {
   "cell_type": "markdown",
   "metadata": {},
   "source": [
    "### Hypothalamus"
   ]
  },
  {
   "cell_type": "code",
   "execution_count": 28,
   "metadata": {},
   "outputs": [],
   "source": [
    "# circadian genes in chow hypothalamus\n",
    "if(bool_plot){\n",
    "    circadian_heatmap(data=list(hptchow=hptC[,1], hpthfd=hptH[,1]),                  \n",
    "                      colinf=sub(\"\\\\d.*\", \"\", unique(sp)),\n",
    "                      sumdat=sumdat,\n",
    "                      title=\"Hpt chow circadian genes\",\n",
    "                      filename=file.path(dir_fig, \"heatmap_circadian_hpt_chow.pdf\"),\n",
    "                      col=colors,\n",
    "                      distfun=dist.pear,\n",
    "                      hclustfun=hclust.ave,\n",
    "                      legs=legs,\n",
    "                      legc=legc\n",
    "    )\n",
    "}"
   ]
  },
  {
   "cell_type": "code",
   "execution_count": 29,
   "metadata": {},
   "outputs": [],
   "source": [
    "# circadian genes in chow hypothalamus\n",
    "if(bool_plot){\n",
    "    circadian_heatmap(data=list(hptchow=intersect(hptC[,1], targetGenes$glucoseMetab), \n",
    "                                  hpthfd=intersect(hptH[,1], targetGenes$glucoseMetab)),                  \n",
    "                      colinf=sub(\"\\\\d.*\", \"\", unique(sp)),\n",
    "                      sumdat=sumdat,\n",
    "                      title=\"Hpt chow circadian genes - Glucose Methabolism\",\n",
    "                      filename=file.path(dir_fig, \"heatmap_circadian_hpt_chow_glucoseMetab.pdf\"),\n",
    "                      col=colors,\n",
    "                      distfun=dist.pear,\n",
    "                      hclustfun=hclust.ave,\n",
    "                      legs=legs,\n",
    "                      legc=legc\n",
    "    )\n",
    "}"
   ]
  },
  {
   "cell_type": "code",
   "execution_count": 30,
   "metadata": {},
   "outputs": [],
   "source": [
    "# circadian genes in hfd hypothalamus\n",
    "if(bool_plot){ \n",
    "    circadian_heatmap(data=list(hpthfd=hptH[,1], hptchow=hptC[,1]),                  \n",
    "                      colinf=sub(\"\\\\d.*\", \"\", unique(sp)),\n",
    "                      sumdat=sumdat,\n",
    "                      title=\"Hpt hfd circadian genes\",\n",
    "                      filename=file.path(dir_fig,\"heatmap_circadian_hpt_hfd.pdf\"),\n",
    "                      col=colors,\n",
    "                      distfun=dist.pear,\n",
    "                      hclustfun=hclust.ave,\n",
    "                      legs=legs,\n",
    "                      legc=legc\n",
    "    )\n",
    "}"
   ]
  },
  {
   "cell_type": "code",
   "execution_count": 31,
   "metadata": {},
   "outputs": [],
   "source": [
    "# circadian genes in hfd hypothalamus\n",
    "if(bool_plot){ \n",
    "    circadian_heatmap(data=list(hpthfd=intersect(hptH[,1], targetGenes$glucoseMetab),\n",
    "                                  hptchow=intersect(hptC[,1], targetGenes$glucoseMetab)),                  \n",
    "                      colinf=sub(\"\\\\d.*\", \"\", unique(sp)),\n",
    "                      sumdat=sumdat,\n",
    "                      title=\"Hpt hfd circadian genes - Glucose Methabolism\",\n",
    "                      filename=file.path(dir_fig,\"heatmap_circadian_hpt_hfd_glucoseMetab.pdf\"),\n",
    "                      col=colors,\n",
    "                      distfun=dist.pear,\n",
    "                      hclustfun=hclust.ave,\n",
    "                      legs=legs,\n",
    "                      legc=legc\n",
    "    )\n",
    "}"
   ]
  },
  {
   "cell_type": "code",
   "execution_count": 32,
   "metadata": {},
   "outputs": [],
   "source": [
    "# Enrichment analysis of selected pathways\n",
    "if(bool_plot){\n",
    "    enrich <- ggplot(rbind(kkHipC, kkHipH, kkHptC, kkHptH), \n",
    "                     aes(Comparison, Description, col=p.adjust, size=Count)) + \n",
    "                     geom_point()+ \n",
    "                     scale_colour_gradient(low=\"red\", high=\"blue\") +\n",
    "                     xlab(\"caricadian genes\") + \n",
    "                     ylab(\"enriched pathways\")\n",
    "    \n",
    "    ggsave(file.path(dir_fig, \"kegg_enrichment_selected_pathawys_circadian_genes.pdf\"))\n",
    "    print(enrich)\n",
    "}"
   ]
  },
  {
   "cell_type": "code",
   "execution_count": 33,
   "metadata": {},
   "outputs": [],
   "source": [
    "# venn diagrams of hypothalamys and hippocampus\n",
    "if(bool_plot){\n",
    "    hipA <- rbind(data.frame(amplitude=hipC$AMP, diet='chow'), data.frame(amplitude=hipH$AMP, diet='hfd'))\n",
    "    hptA <- rbind(data.frame(amplitude=hptC$AMP, diet='chow'), data.frame(amplitude=hptH$AMP, diet='hfd'))\n",
    "    figure <- multi_panel_figure(columns=2,\n",
    "                                 rows=2\n",
    "    )\n",
    "    figure %<>% fill_panel(venn.diagram(list(' '= hipC[,1],' '= hipH[,1]), \n",
    "                                        fill=legc,\n",
    "                                        filename=NULL,\n",
    "                                        col=\"transparent\",\n",
    "                                        main=\"Hippocampus\",\n",
    "                                        rotation.degree=270\n",
    "                  )\n",
    "        ) %<>% fill_panel(venn.diagram(list(' '= hptC[,1],' '= hptH[,1]), \n",
    "                                       fill=legc,\n",
    "                                       filename=NULL,\n",
    "                                       col=\"transparent\",\n",
    "                                       main=\"Hypothalamus\",\n",
    "                                       rotation.degree=270\n",
    "                  )\n",
    "        ) %<>% fill_panel(ggplot(hipA, aes(amplitude, fill=diet)) + \n",
    "                                 geom_histogram(alpha=0.7, aes(y=..density..), position='identity', bins=20) +\n",
    "                                 scale_fill_manual(values=legc) +\n",
    "                                 ggtitle(\"Hippocampus\")\n",
    "        ) %<>% fill_panel(ggplot(hptA, aes(amplitude, fill=diet)) + \n",
    "                                 geom_histogram(alpha=0.7, aes(y=..density..), position='identity', bins=20) + \n",
    "                                 scale_fill_manual(values=legc) + \n",
    "                                 ggtitle(\"Hypothalamus\")\n",
    "        )\n",
    "    save_multi_panel_figure(figure, \n",
    "                            filename=file.path(dir_fig,\"venn_diagram-amplitude_circadian_genes.pdf\")\n",
    "    )\n",
    "    figure\n",
    "}"
   ]
  },
  {
   "cell_type": "code",
   "execution_count": 34,
   "metadata": {},
   "outputs": [],
   "source": [
    "# intersection of overlaping genes\n",
    "if(bool_plot){  \n",
    "    pdf(file=file.path(dir_fig, \"upset_plot_circadian_genes.pdf\"))\n",
    "    ups <- plotUpset(analyses=list(hipChow=hipChow,\n",
    "                                     hipHfd=hipHfd,\n",
    "                                     hptChow=hptChow, \n",
    "                                     hptHfd=hptHfd\n",
    "                     ),\n",
    "                     cut_off=0.05,\n",
    "                     col_interest=3,\n",
    "                     text.scale=2,\n",
    "                     matrix.color=\"black\",\n",
    "                     main.bar.color=\"black\",\n",
    "                     sets.bar.color=\"black\"\n",
    "    )\n",
    "    dev.off()\n",
    "    ups\n",
    "}"
   ]
  },
  {
   "cell_type": "markdown",
   "metadata": {},
   "source": [
    "## Differential expression - tissue and diet effect"
   ]
  },
  {
   "cell_type": "markdown",
   "metadata": {},
   "source": [
    "### Tissue effect"
   ]
  },
  {
   "cell_type": "code",
   "execution_count": 35,
   "metadata": {},
   "outputs": [],
   "source": [
    "# differntial gene expression\n",
    "if(bool_recomp){\n",
    "    dds_t <- DESeq(dds,\n",
    "                   test=\"LRT\",\n",
    "                   reduced=~ timepoint + diet\n",
    "             )\n",
    "    tissue_effect <- as.data.frame(results(dds_t))\n",
    "    write.csv(tissue_effect, \n",
    "              file.path(dir_tab, 'differential_expression_tissue_effect.csv')\n",
    "    )\n",
    "} else {\n",
    "    tissue_effect = read.csv(file.path(dir_tab, 'differential_expression_tissue_effect.csv'),\n",
    "                             row.names=1\n",
    "    )\n",
    "}\n",
    "# select significant genes\n",
    "hiphpt <- tissue_effect[tissue_effect[,6] < 0.01,]"
   ]
  },
  {
   "cell_type": "code",
   "execution_count": 36,
   "metadata": {
    "scrolled": true
   },
   "outputs": [],
   "source": [
    "# enrichment of selected pathways\n",
    "if(bool_recomp){\n",
    "    kkHipHpt <- enrichSelectPath(genes=rownames(hiphpt),\n",
    "                                 selectPathway=targetGenes$KEGG,\n",
    "                                 cut_off=0.05,\n",
    "                                 name=\"tissue_effect\",\n",
    "                                 orgdb=org.Rn.eg.db,\n",
    "                                 organism='rno'\n",
    "    )\n",
    "    write.csv(kkHipHpt, \n",
    "              file.path(dir_tab, 'kegg_enrichment_tissue_effect.csv')\n",
    "    )\n",
    "} else {\n",
    "    kkHipHpt = read.csv(file.path(dir_tab, 'kegg_enrichment_tissue_effect.csv'),\n",
    "                        row.names=1 \n",
    "    )\n",
    "}"
   ]
  },
  {
   "cell_type": "code",
   "execution_count": 37,
   "metadata": {},
   "outputs": [],
   "source": [
    "# volcano plot differential expressed genes\n",
    "if(bool_plot){ \n",
    "    res=tissue_effect[order(tissue_effect$padj),]\n",
    "    results=as.data.frame(dplyr::mutate(as.data.frame(res), \n",
    "                                          significant=ifelse(res$padj < 0.05, \"FDR<0.05\", \"Not Sig\")\n",
    "                                         ), row.names=rownames(res)\n",
    "                           )\n",
    "    results=results[(!is.na(results$padj)),] \n",
    "\n",
    "    vdhip <- ggplot(results, aes(log2FoldChange, -log10(padj))) +\n",
    "                    geom_point(aes(col=significant)) +\n",
    "                    scale_color_manual(values=legv) +\n",
    "                    geom_text_repel(data=results[1:20,], aes(label=rownames(results[1:20,])))\n",
    "    ggsave(file.path(dir_fig, \"volcano_differential_expression_tissue_effect.pdf\"))\n",
    "    print(vdhip)\n",
    "}"
   ]
  },
  {
   "cell_type": "code",
   "execution_count": 38,
   "metadata": {},
   "outputs": [],
   "source": [
    "# separate condition per tissue and make metadata\n",
    "t_hip <- tissue %in% \"hippo\"\n",
    "t_hpt <- tissue %in% \"hpt\"\n",
    "timepoint1 <- timepoint[t_hip]\n",
    "timepoint2 <- timepoint[t_hpt]\n",
    "diet1 <- diet[t_hip]\n",
    "diet2 <- diet[t_hpt]\n",
    "id1 <- colnames(dat_filt[,t_hip])\n",
    "id2 <- colnames(dat_filt[,t_hpt])\n",
    "metaData1 <- data.frame(id1, timepoint1, diet1)\n",
    "metaData2 <- data.frame(id2, timepoint2, diet2)"
   ]
  },
  {
   "cell_type": "markdown",
   "metadata": {},
   "source": [
    "### Hippocampus - Diet Effect "
   ]
  },
  {
   "cell_type": "code",
   "execution_count": 39,
   "metadata": {},
   "outputs": [],
   "source": [
    "# differntial gene expression\n",
    "if(bool_recomp){\n",
    "    ddsHip <- DESeqDataSetFromMatrix(countData=dat_filt[,t_hip],\n",
    "                                     colData=metaData1,\n",
    "                                     design =~ timepoint1 + diet1\n",
    "              )\n",
    "    ddsHip <- DESeq(ddsHip,\n",
    "                    test=\"LRT\",\n",
    "                    reduced=~ timepoint1 \n",
    "              )\n",
    "    hipDiet <- as.data.frame(results(ddsHip))\n",
    "    write.csv(hipDiet, \n",
    "              file.path(dir_tab, 'differential_expression_hippo_diet_effect.csv')\n",
    "    )\n",
    "} else {\n",
    "    hipDiet=read.csv(file.path(dir_tab, 'differential_expression_hippo_diet_effect.csv'),\n",
    "                       row.names=1\n",
    "    )\n",
    "}\n",
    "# select significant genes\n",
    "hipD <- hipDiet[hipDiet[,6] < 0.01,]"
   ]
  },
  {
   "cell_type": "code",
   "execution_count": 40,
   "metadata": {},
   "outputs": [],
   "source": [
    "# enrichment of selected pathways\n",
    "if(bool_recomp){\n",
    "    kkHipD <- enrichSelectPath(genes=rownames(hipD),\n",
    "                               selectPathway=targetGenes$KEGG,\n",
    "                               cut_off=0.05,\n",
    "                               name=\"hippo_diet_effect\",\n",
    "                               orgdb=org.Rn.eg.db,\n",
    "                               organism='rno'\n",
    "    )\n",
    "    write.csv(kkHipD,\n",
    "              file.path(dir_tab, 'kegg_enrichment_hippo_diet_effect.csv')\n",
    "    )\n",
    "} else {\n",
    "    kkHipD=read.csv(file.path(dir_tab, 'kegg_enrichment_hippo_diet_effect.csv'),\n",
    "                      row.names=1,\n",
    "                      sep=','\n",
    "    )\n",
    "}"
   ]
  },
  {
   "cell_type": "code",
   "execution_count": 41,
   "metadata": {},
   "outputs": [],
   "source": [
    "# volcano plot differential expressed genes\n",
    "if(bool_plot){ \n",
    "    res=hipDiet[order(hipDiet$padj),]\n",
    "    results=as.data.frame(dplyr::mutate(as.data.frame(res), \n",
    "                                          significant=ifelse(res$padj < 0.05, \"FDR<0.05\", \"Not Sig\")\n",
    "                                         ), row.names=rownames(res)\n",
    "                           )\n",
    "    results=results[(!is.na(results$padj)),] \n",
    "\n",
    "    vdhip <- ggplot(results, aes(log2FoldChange, -log10(padj))) +\n",
    "                    geom_point(aes(col=significant)) +\n",
    "                    scale_color_manual(values=legv) +\n",
    "                    geom_text_repel(data=results[1:20,], aes(label=rownames(results[1:20,])))\n",
    "    ggsave(file.path(dir_fig, \"volcano_differential_expression_hippo_diet_effect.pdf\"))\n",
    "    print(vdhip)\n",
    "}"
   ]
  },
  {
   "cell_type": "markdown",
   "metadata": {},
   "source": [
    "### Hypothalamus - Diet Effect"
   ]
  },
  {
   "cell_type": "code",
   "execution_count": 42,
   "metadata": {},
   "outputs": [],
   "source": [
    "# differntial gene expression\n",
    "if(bool_recomp){\n",
    "    ddsHpt <- DESeqDataSetFromMatrix(countData=dat_filt[,t_hpt],\n",
    "                                     colData=metaData2,\n",
    "                                     design =~ timepoint2 + diet2\n",
    "              )\n",
    "    ddsHpt <- DESeq(ddsHpt,\n",
    "                    test=\"LRT\",\n",
    "                    reduced=~ timepoint2\n",
    "              )\n",
    "    hptDiet <- as.data.frame(results(ddsHpt))\n",
    "    write.csv(hptDiet,\n",
    "              file.path(dir_tab, 'differential_expression_hpt_diet_effect.csv')\n",
    "    )\n",
    "} else {\n",
    "    hptDiet = read.csv(file.path(dir_tab, 'differential_expression_hpt_diet_effect.csv'),\n",
    "                       row.names=1\n",
    "    )\n",
    "}\n",
    "# select significant genes\n",
    "hptD <- hptDiet[hptDiet[,6] < 0.01,]"
   ]
  },
  {
   "cell_type": "code",
   "execution_count": 43,
   "metadata": {},
   "outputs": [],
   "source": [
    "# enrichment of selected pathways\n",
    "if(bool_recomp){\n",
    "    kkHptD <- enrichSelectPath(genes=rownames(hptD),\n",
    "                               selectPathway=targetGenes$KEGG,\n",
    "                               cut_off=0.05,\n",
    "                               name=\"hpt_diet_effect\",\n",
    "                               orgdb=org.Rn.eg.db,\n",
    "                               organism='rno'\n",
    "    )\n",
    "    write.csv(kkHptD,\n",
    "              file.path(dir_tab, 'kegg_enrichment_hpt_diet_effect.csv')\n",
    "    )\n",
    "} else {\n",
    "    kkHptD = read.csv(file.path(dir_tab, 'kegg_enrichment_hpt_diet_effect.csv'),\n",
    "                      row.names=1,\n",
    "                      sep=','\n",
    "    )\n",
    "}"
   ]
  },
  {
   "cell_type": "code",
   "execution_count": 44,
   "metadata": {},
   "outputs": [],
   "source": [
    "# volcano plot differential expressed genes\n",
    "if(bool_plot){ \n",
    "    res=hptDiet[order(hptDiet$padj),]\n",
    "    results=as.data.frame(dplyr::mutate(as.data.frame(res), \n",
    "                                          significant=ifelse(res$padj < 0.05, \"FDR<0.05\", \"Not Sig\")\n",
    "                                         ), row.names=rownames(res)\n",
    "                           )\n",
    "    results=results[(!is.na(results$padj)),] \n",
    "\n",
    "    vdhpt <- ggplot(results, aes(log2FoldChange, -log10(padj))) +\n",
    "                    geom_point(aes(col=significant)) +\n",
    "                    scale_color_manual(values=legv) +\n",
    "                    geom_text_repel(data=results[1:20,], aes(label=rownames(results[1:20,])))\n",
    "    ggsave(file.path(dir_fig, \"volcano_differential_expression_hpt_diet_effect.pdf\"))\n",
    "    print(vdhpt)\n",
    "}"
   ]
  },
  {
   "cell_type": "code",
   "execution_count": 45,
   "metadata": {},
   "outputs": [],
   "source": [
    "# Enrichment analysis of selected pathways\n",
    "if(bool_plot){\n",
    "    enrich <- ggplot(rbind(kkHipHpt, kkHipD, kkHptD), \n",
    "                     aes(Comparison,Description, col=p.adjust, size=Count)) + \n",
    "                     geom_point()+ \n",
    "                     scale_colour_gradient(low=\"red\", high=\"blue\") +\n",
    "                     xlab(\"caricadian genes\") + \n",
    "                     ylab(\"enriched pathways\")\n",
    "    \n",
    "    ggsave(file.path(dir_fig, \"kegg_enrichment_tissue_diet_effect_selected_pathawys.pdf\"))\n",
    "    print(enrich)\n",
    "}"
   ]
  },
  {
   "cell_type": "code",
   "execution_count": 46,
   "metadata": {},
   "outputs": [],
   "source": [
    "# intersection of overlaping genes\n",
    "if(bool_plot){  \n",
    "    pdf(file=file.path(dir_fig, \"upset_differential_genes_tissue_diet_effect.pdf\"))\n",
    "   \n",
    "    ups <- plotUpset(analyses=list(hipDiet=hipDiet, \n",
    "                                     hptDiet=hptDiet, \n",
    "                                     tissue_effect=tissue_effect\n",
    "                     ),\n",
    "                     cut_off=0.05,\n",
    "                     col_interest=6,\n",
    "                     text.scale=2,\n",
    "                     matrix.color=\"black\",\n",
    "                     main.bar.color=\"black\",\n",
    "                     sets.bar.color=\"black\"\n",
    "    )\n",
    "    dev.off()\n",
    "    ups\n",
    "}\n"
   ]
  },
  {
   "cell_type": "code",
   "execution_count": 47,
   "metadata": {
    "scrolled": false
   },
   "outputs": [],
   "source": [
    "# plot individualy genes of interest\n",
    "if(bool_plot){\n",
    "    pdf(file=file.path(dir_fig, \"time_plot_hpt_hippo_interesting_genes.pdf\"))\n",
    "    for(i in targetGenes$hpt_hip_genes){\n",
    "        circadian_gene_plot(gene_name=i,\n",
    "                            data1=vsd[,t_hip],\n",
    "                            tp1=timepoint1,\n",
    "                            group1=diet1,\n",
    "                            data2=vsd[,t_hpt],\n",
    "                            tp2=timepoint2,\n",
    "                            group2=diet2\n",
    "    )\n",
    "    }\n",
    "    dev.off()\n",
    "}"
   ]
  },
  {
   "cell_type": "code",
   "execution_count": 48,
   "metadata": {},
   "outputs": [],
   "source": [
    "# plot individual gene \n",
    "if(bool_plot){\n",
    "    circadian_gene_plot(gene_name=\"Clock\",\n",
    "                        data1=vsd[,t_hip],\n",
    "                        tp1=timepoint1,\n",
    "                        group1=diet1,\n",
    "                        data2=vsd[,t_hpt],\n",
    "                        tp2=timepoint2,\n",
    "                        group2=diet2\n",
    "    )\n",
    "}"
   ]
  },
  {
   "cell_type": "markdown",
   "metadata": {},
   "source": [
    "## Differential experssion per time point"
   ]
  },
  {
   "cell_type": "code",
   "execution_count": 49,
   "metadata": {},
   "outputs": [
    {
     "name": "stderr",
     "output_type": "stream",
     "text": [
      "Warning message in DESeqDataSet(se, design = design, ignoreRank):\n",
      "“some variables in design formula are characters, converting to factors”\n",
      "estimating size factors\n",
      "\n",
      "estimating dispersions\n",
      "\n",
      "gene-wise dispersion estimates\n",
      "\n",
      "mean-dispersion relationship\n",
      "\n",
      "final dispersion estimates\n",
      "\n",
      "fitting model and testing\n",
      "\n"
     ]
    }
   ],
   "source": [
    "# differential gene expression analysis per time point comparing chow vs. hfd\n",
    "dds <- DESeqDataSetFromMatrix(countData=dat_filt,\n",
    "                              colData=metaData,\n",
    "                              design=~condition\n",
    ")\n",
    "dds <- DESeq(dds)"
   ]
  },
  {
   "cell_type": "markdown",
   "metadata": {},
   "source": [
    "### Hippocampus TP2"
   ]
  },
  {
   "cell_type": "code",
   "execution_count": 50,
   "metadata": {},
   "outputs": [],
   "source": [
    "# differntial gene expression\n",
    "if(bool_recomp){\n",
    "    hippoTP2 <- shrink_dge(dds=dds,\n",
    "                           method=\"deseq2\",\n",
    "                           contrast=c(\"condition\", \"hippo2chow\", \"hippo2hfd\"),\n",
    "    )\n",
    "    hippoTP2[is.na(hippoTP2$padj),]  <- 1\n",
    "    write.csv(hippoTP2, \n",
    "              file.path(dir_tab, 'differential_expression_hippo_TP2.csv')\n",
    "    )\n",
    "} else {\n",
    "    hippoTP2=read.csv(file.path(dir_tab, 'differential_expression_hippo_TP2.csv'),\n",
    "                        row.names=1\n",
    "    )\n",
    "}\n",
    "# select significant genes\n",
    "hip2 <- hippoTP2[hippoTP2[,6] < 0.05,]"
   ]
  },
  {
   "cell_type": "code",
   "execution_count": 51,
   "metadata": {},
   "outputs": [],
   "source": [
    "# enrichment of selected pathways\n",
    "if(bool_recomp){\n",
    "    kkHip2 <- enrichSelectPath(genes=rownames(hip2),\n",
    "                               selectPathway=targetGenes$KEGG,\n",
    "                               cut_off=0.05,\n",
    "                               name=\"hippo_TP2\",\n",
    "                               orgdb=org.Rn.eg.db,\n",
    "                               organism='rno'\n",
    "    )\n",
    "    write.csv(kkHip2, \n",
    "              file.path(dir_tab, 'kegg_enrichment_hippo_TP2.csv')\n",
    "    )\n",
    "} else {\n",
    "    kkHip2 = read.csv(file.path(dir_tab, 'kegg_enrichment_hippo_TP2.csv'),\n",
    "                      row.names=1,\n",
    "                      sep=','\n",
    "    )\n",
    "}"
   ]
  },
  {
   "cell_type": "code",
   "execution_count": 52,
   "metadata": {},
   "outputs": [],
   "source": [
    "# volcano plot differential expressed genes\n",
    "if(bool_plot){ \n",
    "    res = hippoTP2[order(hippoTP2$padj),]\n",
    "    results = as.data.frame(dplyr::mutate(as.data.frame(res), \n",
    "                                          significant=ifelse(res$padj < 0.05, \"FDR<0.05\", \"Not Sig\")\n",
    "                                    ), row.names=rownames(res)\n",
    "    )\n",
    "    vdhpt <- ggplot(results, aes(log2FoldChange, -log10(padj))) +\n",
    "                    geom_point(aes(col=significant)) +\n",
    "                    scale_color_manual(values=legv) +\n",
    "                    geom_text_repel(data=results[1:20,], aes(label=rownames(results[1:20,])))\n",
    "    ggsave(file.path(dir_fig, \"volcano_hippo_TP2.pdf\"))\n",
    "    print(vdhpt)\n",
    "}"
   ]
  },
  {
   "cell_type": "markdown",
   "metadata": {},
   "source": [
    "### Hippocampus TP6"
   ]
  },
  {
   "cell_type": "code",
   "execution_count": 53,
   "metadata": {},
   "outputs": [],
   "source": [
    "# differntial gene expression\n",
    "if(bool_recomp){\n",
    "    hippoTP6 <- shrink_dge(dds=dds,\n",
    "                           method=\"deseq2\",\n",
    "                           contrast=c(\"condition\", \"hippo6chow\", \"hippo6hfd\")\n",
    "    )\n",
    "    hippoTP6[is.na(hippoTP6$padj),]  <- 1\n",
    "    write.csv(hippoTP6, \n",
    "              file.path(dir_tab, 'differential_expression_hippo_TP6.csv')\n",
    "    )\n",
    "} else {\n",
    "    hippoTP6 = read.csv(file.path(dir_tab, 'differential_expression_hippo_TP6.csv'),\n",
    "                        row.names=1\n",
    "    )\n",
    "}\n",
    "# select significant genes\n",
    "hip6 <- hippoTP6[hippoTP6[,6] < 0.05,]"
   ]
  },
  {
   "cell_type": "code",
   "execution_count": 54,
   "metadata": {},
   "outputs": [],
   "source": [
    "# enrichment of selected pathways\n",
    "if(bool_recomp){\n",
    "    kkHip6 <- enrichSelectPath(genes=rownames(hip6),\n",
    "                               selectPathway=targetGenes$KEGG,\n",
    "                               cut_off=0.05,\n",
    "                               name=\"hippo_TP6\",\n",
    "                               orgdb=org.Rn.eg.db,\n",
    "                               organism='rno'\n",
    "    )\n",
    "    write.csv(kkHip6, \n",
    "              file.path(dir_tab, 'kegg_enrichment_hippo_TP6.csv')\n",
    "    )\n",
    "} else {\n",
    "    kkHip6 = read.table(file.path(dir_tab, 'kegg_enrichment_hippo_TP6.csv'),\n",
    "                        row.names=1,\n",
    "                        sep=','\n",
    "    )\n",
    "}"
   ]
  },
  {
   "cell_type": "code",
   "execution_count": 55,
   "metadata": {},
   "outputs": [],
   "source": [
    "# volcano plot differential expressed genes\n",
    "if(bool_plot){ \n",
    "    res=hippoTP6[order(hippoTP6$padj),]\n",
    "    results=as.data.frame(dplyr::mutate(as.data.frame(res), \n",
    "                                          significant=ifelse(res$padj < 0.05, \"FDR<0.05\", \"Not Sig\")\n",
    "                                   ), row.names=rownames(res)\n",
    "    )\n",
    "    vdhpt <- ggplot(results, aes(log2FoldChange, -log10(padj))) +\n",
    "                    geom_point(aes(col=significant)) +\n",
    "                    scale_color_manual(values=legv) +\n",
    "                    geom_text_repel(data=results[1:10,], aes(label=rownames(results[1:10,])))\n",
    "    ggsave(file.path(dir_fig, \"volcano_hippo_TP6.pdf\"))\n",
    "    print(vdhpt)\n",
    "}"
   ]
  },
  {
   "cell_type": "markdown",
   "metadata": {},
   "source": [
    "### Hippocampus TP10"
   ]
  },
  {
   "cell_type": "code",
   "execution_count": 56,
   "metadata": {},
   "outputs": [],
   "source": [
    "# differntial gene expression\n",
    "if(bool_recomp){\n",
    "    hippoTP10 <- shrink_dge(dds=dds,\n",
    "                            method=\"deseq2\",\n",
    "                            contrast=c(\"condition\", \"hippo10chow\", \"hippo10hfd\")  \n",
    "    )\n",
    "    hippoTP10[is.na(hippoTP10$padj),]  <- 1\n",
    "    write.csv(hippoTP10, \n",
    "              file.path(dir_tab,'differential_expression_hippo_TP10.csv')\n",
    "    )\n",
    "} else {\n",
    "    hippoTP10 = read.csv(file.path(dir_tab,'differential_expression_hippo_TP10.csv'),\n",
    "                         row.names=1\n",
    "    )\n",
    "}\n",
    "# select significant genes\n",
    "hip10 <- hippoTP10[hippoTP10[,6] < 0.05,]"
   ]
  },
  {
   "cell_type": "code",
   "execution_count": 57,
   "metadata": {},
   "outputs": [],
   "source": [
    "# enrichment of selected pathways\n",
    "if(bool_recomp){\n",
    "    kkHip10 <- enrichSelectPath(genes=rownames(hip10),\n",
    "                               selectPathway=targetGenes$KEGG,\n",
    "                               cut_off=0.05,\n",
    "                               name=\"hippo_TP10\",\n",
    "                               orgdb=org.Rn.eg.db,\n",
    "                               organism='rno'\n",
    "    )\n",
    "    write.csv(kkHip10, \n",
    "              file.path(dir_tab, 'kegg_enrichment_hippo_TP10.csv')\n",
    "    )\n",
    "} else {\n",
    "    kkHip10 = read.csv(file.path(dir_tab, 'kegg_enrichment_hippo_TP10.csv'), \n",
    "                       row.names=1,\n",
    "                       sep=',' \n",
    "    )\n",
    "}"
   ]
  },
  {
   "cell_type": "code",
   "execution_count": 58,
   "metadata": {},
   "outputs": [],
   "source": [
    "# volcano plot differential expressed genes\n",
    "if(bool_plot){ \n",
    "    res=hippoTP10[order(hippoTP10$padj),]\n",
    "    results=as.data.frame(dplyr::mutate(as.data.frame(res), \n",
    "                                          significant=ifelse(res$padj < 0.05, \"FDR<0.05\", \"Not Sig\")\n",
    "                                   ), row.names=rownames(res)\n",
    "    )\n",
    "    vdhpt <- ggplot(results, aes(log2FoldChange, -log10(padj))) +\n",
    "                    geom_point(aes(col=significant)) +\n",
    "                    scale_color_manual(values=legv) +\n",
    "                    geom_text_repel(data=results[1:20,], aes(label=rownames(results[1:20,])))\n",
    "    ggsave(file.path(dir_fig, \"volcano_hippo_TP10.pdf\"))\n",
    "    print(vdhpt)\n",
    "}"
   ]
  },
  {
   "cell_type": "markdown",
   "metadata": {},
   "source": [
    "### Hippocampus TP14"
   ]
  },
  {
   "cell_type": "code",
   "execution_count": 59,
   "metadata": {},
   "outputs": [],
   "source": [
    "# differntial gene expression\n",
    "if(bool_recomp){\n",
    "    hippoTP14 <- shrink_dge(dds=dds,\n",
    "                            method=\"deseq2\",\n",
    "                            contrast=c(\"condition\", \"hippo14chow\", \"hippo14hfd\")   \n",
    "    )\n",
    "    hippoTP14[is.na(hippoTP14$padj),]  <- 1\n",
    "    write.csv(hippoTP14,\n",
    "              file.path(dir_tab, 'differential_expression_hippo_TP14.csv')\n",
    "    )\n",
    "} else {\n",
    "    hippoTP14 = read.csv(file.path(dir_tab, 'differential_expression_hippo_TP14.csv'),\n",
    "                         row.names=1\n",
    "    )\n",
    "}\n",
    "# select significant genes\n",
    "hip14 <- hippoTP14[hippoTP14[,6] < 0.05,]"
   ]
  },
  {
   "cell_type": "code",
   "execution_count": 60,
   "metadata": {},
   "outputs": [],
   "source": [
    "# enrichment of selected pathways\n",
    "if(bool_recomp){\n",
    "    kkHip14 <- enrichSelectPath(genes=rownames(hip14),\n",
    "                                selectPathway=targetGenes$KEGG,\n",
    "                                cut_off=0.05,\n",
    "                                name=\"hippo_TP14\",\n",
    "                                orgdb=org.Rn.eg.db,\n",
    "                                organism='rno'\n",
    "    )\n",
    "    write.csv(kkHip14, \n",
    "              file.path(dir_tab, 'kegg_enrichment_hippo_TP14.csv')\n",
    "    )\n",
    "} else {\n",
    "    kkHip14 = read.csv(file.path(dir_tab, 'kegg_enrichment_hippo_TP14.csv'),\n",
    "                       row.names=1,\n",
    "                       sep=',' \n",
    "    )\n",
    "}"
   ]
  },
  {
   "cell_type": "code",
   "execution_count": 61,
   "metadata": {},
   "outputs": [],
   "source": [
    "# volcano plot differential expressed genes\n",
    "if(bool_plot){ \n",
    "    res = hippoTP14[order(hippoTP14$padj),]\n",
    "    results = as.data.frame(dplyr::mutate(as.data.frame(res), \n",
    "                                          significant=ifelse(res$padj < 0.05, \"FDR<0.05\", \"Not Sig\")\n",
    "                                   ), row.names=rownames(res)\n",
    "    )\n",
    "    vdhpt <- ggplot(results, aes(log2FoldChange, -log10(padj))) +\n",
    "                    geom_point(aes(col=significant)) +\n",
    "                    scale_color_manual(values=legv) +\n",
    "                    geom_text_repel(data=results[1:20,], aes(label=rownames(results[1:20,])))\n",
    "    ggsave(file.path(dir_fig, \"volcano_hippo_TP14.pdf\"))\n",
    "    print(vdhpt)\n",
    "}"
   ]
  },
  {
   "cell_type": "markdown",
   "metadata": {},
   "source": [
    "### Hippocampus TP18"
   ]
  },
  {
   "cell_type": "code",
   "execution_count": 62,
   "metadata": {},
   "outputs": [],
   "source": [
    "# differntial gene expression\n",
    "if(bool_recomp){\n",
    "    hippoTP18 <- shrink_dge(dds=dds,\n",
    "                            method=\"deseq2\",\n",
    "                            contrast=c(\"condition\", \"hippo18chow\", \"hippo18hfd\")\n",
    "    )\n",
    "    hippoTP18[is.na(hippoTP18$padj),]  <- 1\n",
    "    write.csv(hippoTP18, \n",
    "              file.path(dir_tab,'differential_expression_hippo_TP18.csv')\n",
    "    )\n",
    "} else {\n",
    "    hippoTP18 = read.csv(file.path(dir_tab,'differential_expression_hippo_TP18.csv'),\n",
    "                         row.names=1\n",
    "    )\n",
    "}\n",
    "# select significant genes\n",
    "hip18 <- hippoTP18[hippoTP18[,6] < 0.05,]"
   ]
  },
  {
   "cell_type": "code",
   "execution_count": 63,
   "metadata": {},
   "outputs": [],
   "source": [
    "# enrichment of selected pathways\n",
    "if(bool_recomp){\n",
    "    kkHip18 <- enrichSelectPath(genes=rownames(hip18),\n",
    "                               selectPathway=targetGenes$KEGG,\n",
    "                               cut_off=0.05,\n",
    "                               name=\"hippo_TP18\",\n",
    "                               orgdb=org.Rn.eg.db,\n",
    "                               organism='rno'\n",
    "    )\n",
    "    write.csv(kkHip18,\n",
    "              file.path(dir_tab,'kegg_enrichment_hippo_TP18.csv')\n",
    "    )\n",
    "} else {\n",
    "    kkHip18 = read.csv(file.path(dir_tab,'kegg_enrichment_hippo_TP18.csv'),\n",
    "                       row.names=1,\n",
    "                       sep=',' \n",
    "    )\n",
    "}"
   ]
  },
  {
   "cell_type": "code",
   "execution_count": 64,
   "metadata": {},
   "outputs": [],
   "source": [
    "# volcano plot differential expressed genes\n",
    "if(bool_plot){ \n",
    "    res = hippoTP18[order(hippoTP18$padj),]\n",
    "    results = as.data.frame(dplyr::mutate(as.data.frame(res), \n",
    "                                          significant=ifelse(res$padj<0.05, \"FDR<0.05\", \"Not Sig\")\n",
    "                                   ), row.names=rownames(res)\n",
    "    )\n",
    "    vdhpt <- ggplot(results, aes(log2FoldChange, -log10(padj))) +\n",
    "                    geom_point(aes(col=significant)) +\n",
    "                    scale_color_manual(values=legv) +\n",
    "                    geom_text_repel(data=results[1:20,], aes(label=rownames(results[1:20,])))\n",
    "    ggsave(file.path(dir_fig, \"volcano_hippo_TP18.pdf\"))\n",
    "    print(vdhpt)\n",
    "}"
   ]
  },
  {
   "cell_type": "markdown",
   "metadata": {},
   "source": [
    "### Hippocampus TP22"
   ]
  },
  {
   "cell_type": "code",
   "execution_count": 65,
   "metadata": {},
   "outputs": [],
   "source": [
    "# differntial gene expression\n",
    "if(bool_recomp){\n",
    "    hippoTP22 <- shrink_dge(dds=dds,\n",
    "                            method=\"deseq2\",\n",
    "                            contrast=c(\"condition\", \"hippo22chow\", \"hippo22hfd\")       \n",
    "                )\n",
    "    hippoTP22[is.na(hippoTP22$padj),]  <- 1\n",
    "    write.csv(hippoTP22,\n",
    "              file.path(dir_tab, 'differential_expression_hippo_TP22.csv'))\n",
    "} else {\n",
    "    hippoTP22 = read.csv(file.path(dir_tab, 'differential_expression_hippo_TP22.csv'),\n",
    "                         row.names=1\n",
    "    )\n",
    "}\n",
    "# select significant genes\n",
    "hip22 <- hippoTP22[hippoTP22[,6] < 0.05,]"
   ]
  },
  {
   "cell_type": "code",
   "execution_count": 66,
   "metadata": {},
   "outputs": [],
   "source": [
    "# enrichment of selected pathways\n",
    "if(bool_recomp){\n",
    "    kkHip22 <- enrichSelectPath(genes=rownames(hip22),\n",
    "                               selectPathway=targetGenes$KEGG,\n",
    "                               cut_off=0.05,\n",
    "                               name=\"hippo_TP22\",\n",
    "                               orgdb=org.Rn.eg.db,\n",
    "                               organism='rno'\n",
    "    )\n",
    "    write.csv(kkHip22,\n",
    "              file.path(dir_tab, 'kegg_enrichment_hippo_TP22.csv')\n",
    "    )\n",
    "} else {\n",
    "    kkHip22 = read.csv(file.path(dir_tab, 'kegg_enrichment_hippo_TP22.csv'),\n",
    "                       row.names=1,\n",
    "                       sep=','\n",
    "    )\n",
    "}"
   ]
  },
  {
   "cell_type": "code",
   "execution_count": 67,
   "metadata": {},
   "outputs": [],
   "source": [
    "# volcano plot differential expressed genes\n",
    "if(bool_plot){ \n",
    "    res = hippoTP22[order(hippoTP22$padj),]\n",
    "    results = as.data.frame(dplyr::mutate(as.data.frame(res), \n",
    "                                          significant=ifelse(res$padj < 0.05, \"FDR<0.05\", \"Not Sig\")\n",
    "                                   ), row.names=rownames(res)\n",
    "    )\n",
    "    vdhpt <- ggplot(results, aes(log2FoldChange, -log10(padj))) +\n",
    "                    geom_point(aes(col=significant)) +\n",
    "                    scale_color_manual(values=legv) +\n",
    "                    geom_text_repel(data=results[1:20,], aes(label=rownames(results[1:20,])))\n",
    "    ggsave(file.path(dir_fig, \"volcano_hippo_TP22.pdf\"))\n",
    "    print(vdhpt)\n",
    "}"
   ]
  },
  {
   "cell_type": "code",
   "execution_count": 68,
   "metadata": {},
   "outputs": [],
   "source": [
    "# intersection of overlaping genes\n",
    "if(bool_plot){  \n",
    "    pdf(file = file.path(dir_fig, \"upset_differential_genes_hippo_per_TP.pdf\"))\n",
    "\n",
    "    ups <- plotUpset(analyses=list(hippoTP2=hippoTP2, \n",
    "                                     hippoTP6=hippoTP6, \n",
    "                                     hippoTP10=hippoTP10, \n",
    "                                     hippoTP14=hippoTP14,\n",
    "                                     hippoTP18=hippoTP18,\n",
    "                                     hippoTP22=hippoTP22),\n",
    "                     cut_off=0.05,\n",
    "                     col_interest=6,\n",
    "                     text.scale=2,\n",
    "                     matrix.color=\"black\",\n",
    "                     main.bar.color=\"black\",\n",
    "                     sets.bar.color=\"black\"\n",
    "    )\n",
    "    dev.off()\n",
    "    ups\n",
    "}\n"
   ]
  },
  {
   "cell_type": "code",
   "execution_count": 69,
   "metadata": {},
   "outputs": [],
   "source": [
    "# bar plot of the number of significant genes per time point in hippocampus\n",
    "if(bool_plot){\n",
    "    df <- data.frame(Time=c(\"TP1_2h\", \"TP2_6h\", \"TP3_10h\", \"TP4_14h\", \"TP5_18h\", \"TP6_22h\"),\n",
    "                     Nr_significant_genes=c(nrow(hip2), nrow(hip6), nrow(hip10), nrow(hip14), nrow(hip18), nrow(hip22))\n",
    "    )\n",
    "    hiptp <- ggplot(df, aes(x=Time, y=Nr_significant_genes, fill=Time)) +\n",
    "                    geom_bar(stat=\"identity\") + \n",
    "                    theme_minimal() +\n",
    "                    theme(legend.position=\"none\") +\n",
    "                    scale_fill_manual(values=c(rep('#E6E6E6', 3), rep(\"#4D4D4D\", 3))) +\n",
    "    \n",
    "    ggsave(file.path(dir_fig, \"barplot_per_timepoint_hippo.pdf\"))\n",
    "    print(hiptp)\n",
    "}"
   ]
  },
  {
   "cell_type": "code",
   "execution_count": 70,
   "metadata": {},
   "outputs": [],
   "source": [
    "# Enrichment analysis of selected pathways\n",
    "if(bool_plot){\n",
    "    enrich <- ggplot(rbind(kkHip2, kkHip14, kkHip18), \n",
    "                     aes(Comparison, Description, col=p.adjust, size=Count)) + \n",
    "                     geom_point() + \n",
    "                     scale_colour_gradient(low=\"red\", high=\"blue\") +\n",
    "                     xlab(\"caricadian genes\") + \n",
    "                     ylab(\"enriched pathways\")\n",
    "    \n",
    "    ggsave(file.path(dir_fig, \"kegg_enrichment_selected_pathawys.pdf\"))\n",
    "    print(enrich)\n",
    "}"
   ]
  },
  {
   "cell_type": "code",
   "execution_count": 71,
   "metadata": {},
   "outputs": [],
   "source": [
    "# circular visualization of volcano plots - hippocampus\n",
    "if(bool_plot){ \n",
    "    v_hip <- rbind(cbind(hippoTP2, comp=\"Hippo_TP2\"),\n",
    "                   cbind(hippoTP6, comp=\"Hippo_TP6\"),\n",
    "                   cbind(hippoTP10, comp=\"Hippo_TP10\"),\n",
    "                   cbind(hippoTP14, comp=\"Hippo_TP14\"),\n",
    "                   cbind(hippoTP18, comp=\"Hippo_TP18\"),\n",
    "                   cbind(hippoTP22, comp=\"Hippo_TP22\")\n",
    "    )\n",
    "    v_hip$col <- ifelse(v_hip$padj > 0.05, \"grey\", \"red\")\n",
    "    v_hip[,'padj'] <- -log10(v_hip[,'padj'])\n",
    "    \n",
    "    circular_plot(x=v_hip$log2FoldChange,\n",
    "                  y=v_hip$padj, \n",
    "                  factors=v_hip$comp,\n",
    "                  color=v_hip$col,\n",
    "                  leg_name=c('FDR<0.05', 'Not Sig'),\n",
    "                  leg_col=legv\n",
    "    )\n",
    "}"
   ]
  },
  {
   "cell_type": "markdown",
   "metadata": {},
   "source": [
    "### Hypothalamus TP2"
   ]
  },
  {
   "cell_type": "code",
   "execution_count": 72,
   "metadata": {},
   "outputs": [],
   "source": [
    "# differntial gene expression\n",
    "if(bool_recomp){\n",
    "    hptTP2 <- results(dds,\n",
    "                      contrast=c(\"condition\", \"hpt2chow\", \"hpt2hfd\")\n",
    "    )\n",
    "    hptTP2[is.na(hptTP2$padj),]  <- 1\n",
    "    write.csv(hptTP2, \n",
    "              file.path(dir_tab, 'differential_expression_hpt_TP2.csv')\n",
    "    )\n",
    "} else {\n",
    "    hptTP2 = read.csv(file.path(dir_tab, 'differential_expression_hpt_TP2.csv'),\n",
    "                      row.names=1\n",
    "    )\n",
    "}\n",
    "# select significant genes\n",
    "hpt2 <- hptTP2[hptTP2[,6] < 0.05,]"
   ]
  },
  {
   "cell_type": "code",
   "execution_count": 73,
   "metadata": {},
   "outputs": [],
   "source": [
    "# enrichment of selected pathways\n",
    "if(bool_recomp){\n",
    "    kkHpt2 <- enrichSelectPath(genes=rownames(hpt2),\n",
    "                               selectPathway=targetGenes$KEGG,\n",
    "                               cut_off=0.05,\n",
    "                               name=\"hpt_TP2\",\n",
    "                               orgdb=org.Rn.eg.db,\n",
    "                               organism='rno'\n",
    "    )\n",
    "    write.csv(kkHpt2, \n",
    "              file.path(dir_tab, 'kegg_enrichment_hpt_TP2.csv')\n",
    "    )\n",
    "} else {\n",
    "    kkHpt2 = read.csv(file.path(dir_tab, 'kegg_enrichment_hpt_TP2.csv'),\n",
    "                      row.names=1,\n",
    "                      sep=','\n",
    "    )\n",
    "}"
   ]
  },
  {
   "cell_type": "code",
   "execution_count": 74,
   "metadata": {},
   "outputs": [],
   "source": [
    "# volcano plot differential expressed genes\n",
    "if(bool_plot){ \n",
    "    res = hptTP2[order(hptTP2$padj),]\n",
    "    results = as.data.frame(dplyr::mutate(as.data.frame(res), \n",
    "                                          significant=ifelse(res$padj < 0.05, \"FDR<0.05\", \"Not Sig\")\n",
    "                                   ), row.names=rownames(res)\n",
    "    ) \n",
    "    vdhpt <- ggplot(results, aes(log2FoldChange, -log10(padj))) +\n",
    "                    geom_point(aes(col=significant)) +\n",
    "                    scale_color_manual(values=legv) +\n",
    "                    geom_text_repel(data=results[1:20,], aes(label=rownames(results[1:20,])))\n",
    "    ggsave(file.path(dir_fig, \"volcano_hpt_TP2.pdf\"))\n",
    "    print(vdhpt)\n",
    "}"
   ]
  },
  {
   "cell_type": "markdown",
   "metadata": {},
   "source": [
    "### Hypothalamus TP6"
   ]
  },
  {
   "cell_type": "code",
   "execution_count": 75,
   "metadata": {},
   "outputs": [],
   "source": [
    "# differntial gene expression\n",
    "if(bool_recomp){\n",
    "    hptTP6 <- shrink_dge(dds=dds,\n",
    "                        method=\"deseq2\",\n",
    "                        contrast=c(\"condition\", \"hpt6chow\", \"hpt6hfd\")\n",
    "    )\n",
    "    hptTP6[is.na(hptTP6$padj),]  <- 1\n",
    "    write.csv(hptTP6, \n",
    "              file.path(dir_tab, 'differential_expression_hpt_TP6.csv')\n",
    "    )\n",
    "} else {\n",
    "    hptTP6=read.csv(file.path(dir_tab, 'differential_expression_hpt_TP6.csv'), \n",
    "                      row.names=1\n",
    "    )\n",
    "}\n",
    "# select significant genes\n",
    "hpt6 <- hptTP6[hptTP6[,6] < 0.05,]"
   ]
  },
  {
   "cell_type": "code",
   "execution_count": 76,
   "metadata": {},
   "outputs": [],
   "source": [
    "# enrichment of selected pathways\n",
    "if(bool_recomp){\n",
    "    kkHpt6 <- enrichSelectPath(genes=rownames(hpt6),\n",
    "                               selectPathway=targetGenes$KEGG,\n",
    "                               cut_off=0.05,\n",
    "                               name=\"hpt_TP6\",\n",
    "                               orgdb=org.Rn.eg.db,\n",
    "                               organism='rno'\n",
    "    )\n",
    "    write.csv(kkHpt6,\n",
    "              file.path(dir_tab, 'kegg_enrichment_hpt_TP6.csv')\n",
    "    )\n",
    "} else {\n",
    "    kkHpt6 = read.csv(file.path(dir_tab, 'kegg_enrichment_hpt_TP6.csv'),\n",
    "                      row.names=1,\n",
    "                      sep=','\n",
    "    )\n",
    "}"
   ]
  },
  {
   "cell_type": "code",
   "execution_count": 77,
   "metadata": {},
   "outputs": [],
   "source": [
    "# volcano plot differential expressed genes\n",
    "if(bool_plot){ \n",
    "    res = hptTP6[order(hptTP6$padj),]\n",
    "    results = as.data.frame(dplyr::mutate(as.data.frame(res), \n",
    "                                          significant=ifelse(res$padj < 0.05, \"FDR<0.05\", \"Not Sig\")\n",
    "                                   ), row.names=rownames(res)\n",
    "    )\n",
    "    vdhpt <- ggplot(results, aes(log2FoldChange, -log10(padj))) +\n",
    "                    geom_point(aes(col=significant)) +\n",
    "                    scale_color_manual(values=legv) +\n",
    "                    geom_text_repel(data=results[1:20,], aes(label=rownames(results[1:20,])))\n",
    "    ggsave(file.path(dir_fig, \"volcano_hpt_TP6.pdf\"))\n",
    "    print(vdhpt)\n",
    "}"
   ]
  },
  {
   "cell_type": "markdown",
   "metadata": {},
   "source": [
    "### Hypothalamus TP10"
   ]
  },
  {
   "cell_type": "code",
   "execution_count": 78,
   "metadata": {},
   "outputs": [],
   "source": [
    "# differntial gene expression\n",
    "if(bool_recomp){\n",
    "    hptTP10 <- shrink_dge(dds=dds,\n",
    "                          method=\"deseq2\",\n",
    "                          contrast=c(\"condition\", \"hpt10chow\", \"hpt10hfd\")\n",
    "    )\n",
    "    hptTP10[is.na(hptTP10$padj),]  <- 1\n",
    "    write.csv(hptTP10, file.path(dir_tab, 'differential_expression_hpt_TP10.csv'))\n",
    "} else {\n",
    "    hptTP10 = read.csv(file.path(dir_tab, 'differential_expression_hpt_TP10.csv'), \n",
    "                       row.names=1\n",
    "    )\n",
    "}\n",
    "# select significant genes\n",
    "hpt10 <- hptTP10[hptTP10[,6] < 0.05,]"
   ]
  },
  {
   "cell_type": "code",
   "execution_count": 79,
   "metadata": {},
   "outputs": [],
   "source": [
    "# enrichment of selected pathways\n",
    "if(bool_recomp){\n",
    "    kkHpt10 <- enrichSelectPath(genes=rownames(hpt10),\n",
    "                               selectPathway=targetGenes$KEGG,\n",
    "                               cut_off=0.05,\n",
    "                               name=\"hpt_TP10\",\n",
    "                               orgdb=org.Rn.eg.db,\n",
    "                               organism='rno'\n",
    "    )\n",
    "    write.csv(kkHpt10, file.path(dir_tab, 'kegg_enrichment_hpt_TP10.csv'))\n",
    "} else {\n",
    "    kkHpt10 = read.csv(file.path(dir_tab, 'kegg_enrichment_hpt_TP10.csv'),\n",
    "                       row.names=1,\n",
    "                       sep=','\n",
    "    )\n",
    "}"
   ]
  },
  {
   "cell_type": "code",
   "execution_count": 80,
   "metadata": {
    "scrolled": false
   },
   "outputs": [],
   "source": [
    "# volcano plot differential expressed genes\n",
    "if(bool_plot){ \n",
    "    res = hptTP10[order(hptTP10$padj),]\n",
    "    results = as.data.frame(dplyr::mutate(as.data.frame(res), \n",
    "                                          significant=ifelse(res$padj < 0.05, \"FDR<0.05\", \"Not Sig\")\n",
    "                                   ), row.names=rownames(res)\n",
    "    )\n",
    "    vdhpt <- ggplot(results, aes(log2FoldChange, -log10(padj))) +\n",
    "                    geom_point(aes(col=significant)) +\n",
    "                    scale_color_manual(values=legv) +\n",
    "                    geom_text_repel(data=results[1:20,], aes(label=rownames(results[1:20,])))\n",
    "    ggsave(file.path(dir_fig,\"volcano_hpt_TP10.pdf\"))\n",
    "    print(vdhpt)\n",
    "}"
   ]
  },
  {
   "cell_type": "markdown",
   "metadata": {},
   "source": [
    "### Hypothalamus TP14"
   ]
  },
  {
   "cell_type": "code",
   "execution_count": 81,
   "metadata": {},
   "outputs": [],
   "source": [
    "# differntial gene expression\n",
    "if(bool_recomp){\n",
    "    hptTP14 <- shrink_dge(dds=dds,\n",
    "                          method=\"deseq2\",\n",
    "                          contrast=c(\"condition\", \"hpt14chow\", \"hpt14hfd\")\n",
    "    )\n",
    "    hptTP14[is.na(hptTP14$padj),]  <- 1\n",
    "    write.csv(hptTP14, \n",
    "              file.path(dir_tab,'differential_expression_hpt_TP14.csv')\n",
    "    )\n",
    "} else {\n",
    "    hptTP14 = read.csv(file.path(dir_tab,'differential_expression_hpt_TP14.csv'),\n",
    "                       row.names=1\n",
    "    )\n",
    "}\n",
    "# select significant genes\n",
    "hpt14 <- hptTP14[hptTP14[,6]<0.05,]"
   ]
  },
  {
   "cell_type": "code",
   "execution_count": 82,
   "metadata": {},
   "outputs": [],
   "source": [
    "# enrichment of selected pathways\n",
    "if(bool_recomp){\n",
    "    kkHpt14 <- enrichSelectPath(genes=rownames(hpt14),\n",
    "                               selectPathway=targetGenes$KEGG,\n",
    "                               cut_off=0.05,\n",
    "                               name=\"hpt_TP14\",\n",
    "                               orgdb=org.Rn.eg.db,\n",
    "                               organism='rno'\n",
    "    )\n",
    "    write.csv(kkHpt14, \n",
    "              file.path(dir_tab, 'kegg_enrichment_hpt_TP14.csv')\n",
    "    )\n",
    "} else {\n",
    "    kkHpt14 = read.csv(file.path(dir_tab, 'kegg_enrichment_hpt_TP14.csv'),\n",
    "                       row.names=1,\n",
    "                       sep=','\n",
    "    )\n",
    "}"
   ]
  },
  {
   "cell_type": "code",
   "execution_count": 83,
   "metadata": {},
   "outputs": [],
   "source": [
    "# volcano plot differential expressed genes\n",
    "if(bool_plot){ \n",
    "    res = hptTP14[order(hptTP14$padj),]\n",
    "    results = as.data.frame(dplyr::mutate(as.data.frame(res), \n",
    "                                          significant=ifelse(res$padj < 0.05, \"FDR<0.05\", \"Not Sig\")\n",
    "                                   ), row.names=rownames(res)\n",
    "    )\n",
    "    vdhpt <- ggplot(results, aes(log2FoldChange, -log10(padj))) +\n",
    "                    geom_point(aes(col=significant)) +\n",
    "                    scale_color_manual(values=legv) +\n",
    "                    geom_text_repel(data=results[1:20,], aes(label=rownames(results[1:20,])))\n",
    "    ggsave(file.path(dir_fig, \"volcano_hpt_TP14.pdf\"))\n",
    "    print(vdhpt)\n",
    "}"
   ]
  },
  {
   "cell_type": "markdown",
   "metadata": {},
   "source": [
    "### Hypothalamus TP18"
   ]
  },
  {
   "cell_type": "code",
   "execution_count": 84,
   "metadata": {},
   "outputs": [],
   "source": [
    "# differntial gene expression\n",
    "if(bool_recomp){\n",
    "    hptTP18 <- shrink_dge(dds=dds,\n",
    "                          method=\"deseq2\",\n",
    "                          contrast=c(\"condition\", \"hpt18chow\", \"hpt18hfd\")\n",
    "    )\n",
    "    hptTP18[is.na(hptTP18$padj),] = 1\n",
    "    write.csv(hptTP14, \n",
    "              file.path(dir_tab, 'differential_expression_hpt_TP18.csv')\n",
    "    )\n",
    "} else {\n",
    "    hptTP18 = read.csv(file.path(dir_tab, 'differential_expression_hpt_TP18.csv'),\n",
    "                       row.names=1\n",
    "    )\n",
    "}\n",
    "# select significant genes\n",
    "hpt18 <- hptTP18[hptTP18[,6] < 0.05,]"
   ]
  },
  {
   "cell_type": "code",
   "execution_count": 85,
   "metadata": {},
   "outputs": [],
   "source": [
    "# enrichment of selected pathways\n",
    "if(bool_recomp){\n",
    "    kkHpt18 <- enrichSelectPath(genes=rownames(hpt18),\n",
    "                               selectPathway=targetGenes$KEGG,\n",
    "                               cut_off=0.05,\n",
    "                               name=\"hpt_TP18\",\n",
    "                               orgdb=org.Rn.eg.db,\n",
    "                               organism='rno'\n",
    "    )\n",
    "    write.csv(kkHpt18, \n",
    "              file.path(dir_tab, 'kegg_enrichment_hpt_TP18.csv')\n",
    "    )\n",
    "} else {\n",
    "    kkHpt18 = read.csv(file.path(dir_tab, 'kegg_enrichment_hpt_TP18.csv'),\n",
    "                       row.names=1,\n",
    "                       sep=','\n",
    "    )\n",
    "}"
   ]
  },
  {
   "cell_type": "code",
   "execution_count": 86,
   "metadata": {},
   "outputs": [],
   "source": [
    "# volcano plot differential expressed genes\n",
    "if(bool_plot){ \n",
    "    res = hptTP18[order(hptTP18$padj),]\n",
    "    results = as.data.frame(dplyr::mutate(as.data.frame(res), \n",
    "                                          significant=ifelse(res$padj < 0.05, \"FDR<0.05\", \"Not Sig\")\n",
    "                                   ), row.names=rownames(res)\n",
    "    )\n",
    "    vdhpt <- ggplot(results, aes(log2FoldChange, -log10(padj))) +\n",
    "                    geom_point(aes(col=significant)) +\n",
    "                    scale_color_manual(values=legv) +\n",
    "                    geom_text_repel(data=results[1:20,], aes(label=rownames(results[1:20,])))\n",
    "    ggsave(file.path(dir_fig, \"volcano_hpt_TP18.pdf\"))\n",
    "    print(vdhpt)\n",
    "}"
   ]
  },
  {
   "cell_type": "markdown",
   "metadata": {},
   "source": [
    "### Hypothalamus TP22"
   ]
  },
  {
   "cell_type": "code",
   "execution_count": 87,
   "metadata": {},
   "outputs": [],
   "source": [
    "# differntial gene expression\n",
    "if(bool_recomp){\n",
    "    hptTP22 <- shrink_dge(dds=dds,\n",
    "                          method=\"deseq2\",\n",
    "                          contrast=c(\"condition\", \"hpt22chow\", \"hpt22hfd\")\n",
    "    )\n",
    "    hptTP22[is.na(hptTP22$padj),]  <- 1\n",
    "    write.csv(hptTP22, \n",
    "              file.path(dir_tab, 'differential_expression_hpt_TP22.csv')\n",
    "    )\n",
    "} else {\n",
    "    hptTP22 = read.csv(file.path(dir_tab, 'differential_expression_hpt_TP22.csv'),\n",
    "                       row.names=1\n",
    "    )\n",
    "}\n",
    "# select significant genes\n",
    "hpt22 <- hptTP22[hptTP22[,6] < 0.05,]"
   ]
  },
  {
   "cell_type": "code",
   "execution_count": 88,
   "metadata": {},
   "outputs": [],
   "source": [
    "# enrichment of selected pathways\n",
    "if(bool_recomp){\n",
    "    kkHpt22 <- enrichSelectPath(genes=rownames(hpt22),\n",
    "                               selectPathway=targetGenes$KEGG,\n",
    "                               cut_off=0.05,\n",
    "                               name=\"hpt_TP22\",\n",
    "                               orgdb=org.Rn.eg.db,\n",
    "                               organism='rno'\n",
    "    )\n",
    "    write.csv(kkHpt22, \n",
    "              file.path(dir_tab, 'kegg_enrichment_hpt_TP22.csv')\n",
    "    )\n",
    "} else {\n",
    "    kkHpt22 = read.csv(file.path(dir_tab, 'kegg_enrichment_hpt_TP22.csv'),\n",
    "                       row.names=1,\n",
    "                       sep=','\n",
    "    )\n",
    "}"
   ]
  },
  {
   "cell_type": "code",
   "execution_count": 89,
   "metadata": {},
   "outputs": [],
   "source": [
    "# volcano plot differential expressed genes\n",
    "if(bool_plot){ \n",
    "    res = hptTP22[order(hptTP22$padj),]\n",
    "    results = as.data.frame(dplyr::mutate(as.data.frame(res), \n",
    "                                          significant=ifelse(res$padj < 0.05, \"FDR<0.05\", \"Not Sig\")\n",
    "                                   ), row.names=rownames(res)\n",
    "    )\n",
    "    vdhpt <- ggplot(results, aes(log2FoldChange, -log10(padj))) +\n",
    "                    geom_point(aes(col=significant)) +\n",
    "                    scale_color_manual(values=legv) +\n",
    "                    geom_text_repel(data=results[1:20,], aes(label=rownames(results[1:20,])))\n",
    "    ggsave(file.path(dir_fig, \"volcano_hpt_TP22.pdf\"))\n",
    "    print(vdhpt)\n",
    "}"
   ]
  },
  {
   "cell_type": "code",
   "execution_count": 90,
   "metadata": {},
   "outputs": [],
   "source": [
    "# intersection of overlaping genes\n",
    "if(bool_plot){  \n",
    "    pdf(file=file.path(dir_fig, \"upset_differential_genes_hpt_per_TP.pdf\"))\n",
    "        \n",
    "    ups <- plotUpset(analyses=list(hptTP2=hptTP2, \n",
    "                                     hptTP6=hptTP6, \n",
    "                                     hptTP10=hptTP10, \n",
    "                                     hptTP14=hptTP14,\n",
    "                                     hptTP18=hptTP18,\n",
    "                                     hptTP22=hptTP22\n",
    "                     ),\n",
    "                     cut_off=0.05,\n",
    "                     col_interest=6,\n",
    "                     text.scale=1.5,\n",
    "                     matrix.color=\"black\",\n",
    "                     main.bar.color=\"black\",\n",
    "                     sets.bar.color=\"black\"\n",
    "    )\n",
    "    dev.off()\n",
    "    ups\n",
    "}"
   ]
  },
  {
   "cell_type": "code",
   "execution_count": 91,
   "metadata": {},
   "outputs": [],
   "source": [
    "# bar plot of the number of significant genes per time point in hypothalamus\n",
    "if(bool_plot){ \n",
    "    df <- data.frame(Time=c(\"TP1_2h\", \"TP2_6h\", \"TP3_10h\", \"TP4_14h\", \"TP5_18h\", \"TP6_22h\"),\n",
    "                     Nr_significant_genes=c(nrow(hpt2), nrow(hpt6), nrow(hpt10), nrow(hpt14), nrow(hpt18), nrow(hpt22))\n",
    "    )\n",
    "    hpttp <- ggplot(df, aes(x=Time, y=Nr_significant_genes, fill=Time))  +\n",
    "                    geom_bar(stat=\"identity\") + \n",
    "                    theme_minimal() +\n",
    "                    theme(legend.position=\"none\") +\n",
    "                    scale_fill_manual(values=c(rep('#E6E6E6', 3), rep(\"#4D4D4D\", 3))) \n",
    "    \n",
    "    ggsave(file.path(dir_fig, \"barplot_per_timepoint_hpt.pdf\"))\n",
    "    print(hpttp)\n",
    "}"
   ]
  },
  {
   "cell_type": "code",
   "execution_count": 92,
   "metadata": {},
   "outputs": [],
   "source": [
    "# Enrichment analysis of selected pathways\n",
    "if(bool_plot){\n",
    "    enrich <- ggplot(rbind(kkHpt2, kkHpt6, kkHpt10, kkHpt14, kkHpt18, kkHpt22), \n",
    "                     aes(Comparison, Description, col=p.adjust, size=Count)) + \n",
    "                     geom_point()+ \n",
    "                     scale_colour_gradient(low=\"red\", high=\"blue\") +\n",
    "                     xlab(\"caricadian genes\") + \n",
    "                     ylab(\"enriched pathways\")\n",
    "    \n",
    "    ggsave(file.path(dir_fig, \"kegg_enrichment_selected_pathawys.pdf\"))\n",
    "    print(enrich)\n",
    "}"
   ]
  },
  {
   "cell_type": "code",
   "execution_count": 93,
   "metadata": {},
   "outputs": [],
   "source": [
    "# circular visualization of volcano plots - hypothalamus\n",
    "if(bool_plot){ \n",
    "    v_hpt <- data.frame(rbind(cbind(hptTP2, comp=\"Hpt_TP2\"),\n",
    "                              cbind(hptTP6, comp=\"Hpt_TP6\"),\n",
    "                              cbind(hptTP10, comp=\"Hpt_TP10\"),\n",
    "                              cbind(hptTP14, comp=\"Hpt_TP14\"),\n",
    "                              cbind(hptTP18, comp=\"Hpt_TP18\"),\n",
    "                              cbind(hptTP22, comp=\"Hpt_TP22\")\n",
    "                        )\n",
    "             )\n",
    "    v_hpt$col <- ifelse(v_hpt$padj > 0.05, \"grey\", \"red\")\n",
    "    v_hpt[,'padj'] <- -log10(v_hpt[,'padj'])\n",
    "    \n",
    "    circular_plot(x=v_hpt$log2FoldChange,\n",
    "                  y=v_hpt$padj, \n",
    "                  factors=v_hpt$comp,\n",
    "                  color=v_hpt$col,\n",
    "                  leg_name=c('FDR<0.05', 'Not Sig'),\n",
    "                  leg_col=legv\n",
    "    )\n",
    "}"
   ]
  },
  {
   "cell_type": "markdown",
   "metadata": {},
   "source": [
    "## Target genes over time point"
   ]
  },
  {
   "cell_type": "markdown",
   "metadata": {},
   "source": [
    "### Hippocampus"
   ]
  },
  {
   "cell_type": "code",
   "execution_count": 182,
   "metadata": {},
   "outputs": [],
   "source": [
    "if(bool_plot){\n",
    "    compare_hip <- data.frame()\n",
    "    for(i in 1:10){\n",
    "         tg <- targetGenes[[i]]\n",
    "         c_hip <- rbind(cbind(hippoTP2[rownames(hippoTP2)%in%tg,], factor=\"Hippo_TP2\"),\n",
    "                        cbind(hippoTP6[rownames(hippoTP6)%in%tg,], factor=\"Hippo_TP6\"),\n",
    "                        cbind(hippoTP10[rownames(hippoTP10)%in%tg,], factor=\"Hippo_TP10\"),\n",
    "                        cbind(hippoTP14[rownames(hippoTP14)%in%tg,], factor=\"Hippo_TP14\"),\n",
    "                        cbind(hippoTP18[rownames(hippoTP18)%in%tg,], factor=\"Hippo_TP18\"),\n",
    "                        cbind(hippoTP22[rownames(hippoTP22)%in%tg,], factor=\"Hippo_TP22\")\n",
    "                  )\n",
    "         c_hip$y <- i                      \n",
    "         c_hip$name <- names(targetGenes[i])\n",
    "         c_hip$color <- legcir_colo[i]  \n",
    "         compare_hip <- rbind(compare_hip, as.data.frame(c_hip)) \n",
    "    }\n",
    "    for(i in 1:nrow(compare_hip)) \n",
    "        if(compare_hip[i,'pvalue'] > 0.05) \n",
    "            compare_hip[i,'color']='#E6E6E6'\n",
    "\n",
    "    circular_plot(x=compare_hip$log2FoldChange,\n",
    "                  y=compare_hip$y, \n",
    "                  factors=compare_hip$factor,\n",
    "                  color=compare_hip$color,\n",
    "                  leg_name=names(targetGenes)[1:10],\n",
    "                  leg_col=legcir_colo\n",
    "    )\n",
    "}"
   ]
  },
  {
   "cell_type": "markdown",
   "metadata": {},
   "source": [
    "### Hypothalamus"
   ]
  },
  {
   "cell_type": "code",
   "execution_count": 183,
   "metadata": {},
   "outputs": [],
   "source": [
    "if(bool_plot){\n",
    "    if(bool_plot){ \n",
    "        compare_hpt <- data.frame()\n",
    "        for(i in 1:10){\n",
    "            tg <- targetGenes[[i]]\n",
    "            c_hpt <- rbind(cbind(hptTP2[rownames(hptTP2)%in%tg,], factor=\"Hpt_TP2\"),\n",
    "                             cbind(hptTP6[rownames(hptTP6)%in%tg,], factor=\"Hpt_TP6\"),\n",
    "                             cbind(hptTP10[rownames(hptTP10)%in%tg,], factor=\"Hpt_TP10\"),\n",
    "                             cbind(hptTP14[rownames(hptTP14)%in%tg,], factor=\"Hpt_TP14\"),\n",
    "                             cbind(hptTP18[rownames(hptTP18)%in%tg,], factor=\"Hpt_TP18\"),\n",
    "                             cbind(hptTP22[rownames(hptTP22)%in%tg,], factor=\"Hpt_TP22\")     \n",
    "                       )\n",
    "            c_hpt$y <- i                      \n",
    "            c_hpt$name <- names(targetGenes[i])\n",
    "            c_hpt$color <- legcir_colo[i]\n",
    "            compare_hpt <- rbind(compare_hpt, as.data.frame(c_hpt))\n",
    "        }\n",
    "\n",
    "        for(i in 1:nrow(compare_hpt)) \n",
    "            if(compare_hpt[i,'pvalue'] > 0.05)\n",
    "                compare_hpt[i,'color']='#E6E6E6'\n",
    "\n",
    "        circular_plot(x=compare_hpt$log2FoldChange,\n",
    "                      y=compare_hpt$y, \n",
    "                      factors=compare_hpt$factor,\n",
    "                      color=compare_hpt$color,\n",
    "                      leg_name=names(targetGenes)[1:10],\n",
    "                      leg_col=legcir_colo\n",
    "        )\n",
    "    }\n",
    "}"
   ]
  },
  {
   "cell_type": "markdown",
   "metadata": {},
   "source": [
    "## Association of whole gene set with periferial data"
   ]
  },
  {
   "cell_type": "code",
   "execution_count": 96,
   "metadata": {},
   "outputs": [],
   "source": [
    "pfdata <- rbind(pfdat,pfdat)\n",
    "pfdata <- pfdata[!colnames(dat) %in% prob_samp,]"
   ]
  },
  {
   "cell_type": "markdown",
   "metadata": {},
   "source": [
    "### Glucose"
   ]
  },
  {
   "cell_type": "code",
   "execution_count": 97,
   "metadata": {},
   "outputs": [],
   "source": [
    "# association of glucose and hippocampus-chow samples\n",
    "if(bool_recomp | bool_plot){\n",
    "    X <- t(vsd[,tissue_diet %in% \"hippo_chow\"])\n",
    "    glucose <- pfdata[tissue_diet %in% \"hippo_chow\",]$Glucose\n",
    "\n",
    "    glucHipChow <- extract(association(object=gt(glucose, X),\n",
    "                                       col=c(\"darkslategray4\", \"goldenrod4\"),\n",
    "                                       plot=TRUE,\n",
    "                                       plot_name=\"Association between glucose and hippocampus chow data\"\n",
    "                             )      \n",
    "                     )@result\n",
    "    write.csv(glucHipChow, \n",
    "              file.path(dir_tab, 'association_gluc_hip_chow.csv')\n",
    "    )\n",
    "} else {\n",
    "    glucHipChow = read.csv(file.path(dir_tab, 'association_gluc_hip_chow.csv'),\n",
    "                           row.names=1\n",
    "    )\n",
    "}"
   ]
  },
  {
   "cell_type": "code",
   "execution_count": 98,
   "metadata": {},
   "outputs": [],
   "source": [
    "# KEGG enrichment of selected pathawys\n",
    "if(bool_recomp){\n",
    "    kkGlucHipChow <- enrichSelectPath(genes=rownames(glucHipChow[(glucHipChow[,1] < 0.05),]),\n",
    "                                      selectPathway=targetGenes$KEGG,\n",
    "                                      cut_off=0.05,\n",
    "                                      name=\"glucHipChow\",\n",
    "                                      orgdb=org.Rn.eg.db,\n",
    "                                      organism='rno'\n",
    "    )\n",
    "    write.csv(kkGlucHipChow, \n",
    "              file.path(dir_tab, 'kegg_enrichment_gluc_hip_chow.csv')\n",
    "    )\n",
    "} else {\n",
    "    kkGlucHipChow = read.csv(file.path(dir_tab, 'kegg_enrichment_gluc_hip_chow.csv'),\n",
    "                             row.names=1,\n",
    "                             sep=','\n",
    "    )\n",
    "}"
   ]
  },
  {
   "cell_type": "code",
   "execution_count": 99,
   "metadata": {},
   "outputs": [],
   "source": [
    "# association of glucose and hippocampus-hfd samples\n",
    "if(bool_recomp | bool_plot){\n",
    "    X <- t(vsd[,tissue_diet %in% \"hippo_hfd\"])\n",
    "    glucose <- pfdata[tissue_diet %in% \"hippo_hfd\",]$Glucose\n",
    "\n",
    "    glucHipHfd <- extract(association(object=gt(glucose, X),\n",
    "                                      col=c(\"darkslategray4\", \"goldenrod4\"),\n",
    "                                      plot=TRUE,\n",
    "                                      plot_name=\"Association between glucose and hippocampus hfd data\"\n",
    "                          )      \n",
    "                  )@result\n",
    "    write.csv(glucHipHfd,\n",
    "              file.path(dir_tab, 'association_gluc_hip_hfd.csv')\n",
    "    )\n",
    "} else {\n",
    "    glucHipHfd = read.csv(file.path(dir_tab, 'association_gluc_hip_hfd.csv'),\n",
    "                          row.names=1\n",
    "    )\n",
    "}"
   ]
  },
  {
   "cell_type": "code",
   "execution_count": 100,
   "metadata": {},
   "outputs": [],
   "source": [
    "# KEGG enrichment of selected pathawys\n",
    "if(bool_recomp){\n",
    "    kkGlucHipHfd <- enrichSelectPath(genes=rownames(glucHipHfd[(glucHipHfd[,1] < 0.05),]),\n",
    "                                     selectPathway=targetGenes$KEGG,\n",
    "                                     cut_off=0.05,\n",
    "                                     name=\"glucHipHfd\",\n",
    "                                     orgdb=org.Rn.eg.db,\n",
    "                                     organism='rno'\n",
    "    )\n",
    "    write.csv(kkGlucHipHfd, \n",
    "              file.path(dir_tab, 'kegg_enrichment_gluc_hip_hfd.csv')\n",
    "    )\n",
    "} else {\n",
    "    kkGlucHipHfd = read.csv(file.path(dir_tab, 'kegg_enrichment_gluc_hip_hfd.csv'),\n",
    "                            row.names=1,\n",
    "                             sep=','\n",
    "    )\n",
    "}"
   ]
  },
  {
   "cell_type": "code",
   "execution_count": 101,
   "metadata": {},
   "outputs": [],
   "source": [
    "# association of glucose and hypothalamus-chow samples\n",
    "if(bool_recomp | bool_plot){\n",
    "    X <- t(vsd[,tissue_diet %in% \"hpt_chow\"])\n",
    "    glucose <- pfdata[tissue_diet %in% \"hpt_chow\",]$Glucose\n",
    "\n",
    "    glucHptChow <- extract(association(object=gt(glucose, X),\n",
    "                                       col=c(\"darkslategray4\",\"goldenrod4\"),\n",
    "                                       plot=TRUE,\n",
    "                                       plot_name=\"Association between glucose and hypothalamus chow data\"\n",
    "                             )      \n",
    "                     )@result\n",
    "    write.csv(glucHptChow, \n",
    "              file.path(dir_tab, 'association_gluc_hpt_chow.csv')\n",
    "    )\n",
    "} else {\n",
    "    glucHptChow = read.csv(file.path(dir_tab, 'association_gluc_hpt_chow.csv'),\n",
    "                           row.names=1\n",
    "    )\n",
    "}    "
   ]
  },
  {
   "cell_type": "code",
   "execution_count": 102,
   "metadata": {},
   "outputs": [],
   "source": [
    "# KEGG enrichment of selected pathawys\n",
    "if(bool_recomp){\n",
    "    kkGlucHptChow <- enrichSelectPath(genes=rownames(glucHptChow[(glucHptChow[,1] < 0.05),]),\n",
    "                                      selectPathway=targetGenes$KEGG,\n",
    "                                      cut_off=0.05,\n",
    "                                      name=\"glucHptChow\",\n",
    "                                      orgdb=org.Rn.eg.db,\n",
    "                                      organism='rno'\n",
    "    )\n",
    "    write.csv(kkGlucHptChow, \n",
    "              file.path(dir_tab, 'kegg_enrichment_gluc_hpt_chow.csv')\n",
    "    )\n",
    "} else {\n",
    "    kkGlucHptChow = read.csv(file.path(dir_tab, 'kegg_enrichment_gluc_hpt_chow.csv'),\n",
    "                             row.names=1,\n",
    "                             sep=','\n",
    "    )\n",
    "}"
   ]
  },
  {
   "cell_type": "code",
   "execution_count": 103,
   "metadata": {},
   "outputs": [],
   "source": [
    "# association of glucose and hypothalamus-hfd samples\n",
    "if(bool_recomp | bool_plot){\n",
    "    X <- t(vsd[,tissue_diet %in% \"hpt_hfd\"])\n",
    "    glucose <- pfdata[tissue_diet %in% \"hpt_hfd\",]$Glucose\n",
    "\n",
    "    glucHptHfd <- extract(association(object=gt(glucose, X),\n",
    "                                      col=c(\"darkslategray4\", \"goldenrod4\"),\n",
    "                                      plot=TRUE,\n",
    "                                      plot_name=\"Association between glucose and hypothalamus hfd data\"\n",
    "                          )      \n",
    "                  )@result\n",
    "    write.csv(glucHptHfd, \n",
    "              file.path(dir_tab, 'association_gluc_hpt_hfd.csv')\n",
    "    )\n",
    "} else {\n",
    "    glucHptHfd = read.csv(file.path(dir_tab, 'association_gluc_hpt_hfd.csv'),\n",
    "                          row.names=1\n",
    "    )\n",
    "}    "
   ]
  },
  {
   "cell_type": "code",
   "execution_count": 104,
   "metadata": {},
   "outputs": [],
   "source": [
    "# KEGG enrichment of selected pathawys\n",
    "if(bool_recomp){\n",
    "    kkGlucHptHfd <- enrichSelectPath(genes=rownames(glucHptHfd[(glucHptHfd[,1]<0.05),]),\n",
    "                                      selectPathway=targetGenes$KEGG,\n",
    "                                      cut_off=0.05,\n",
    "                                      name=\"glucHptHfd\",\n",
    "                                      orgdb=org.Rn.eg.db,\n",
    "                                      organism='rno'\n",
    "    )\n",
    "    write.csv(kkGlucHptHfd, \n",
    "              file.path(dir_tab, 'kegg_enrichment_gluc_hpt_chow.csv')\n",
    "    )\n",
    "} else {\n",
    "    kkGlucHptHfd = read.csv(file.path(dir_tab, 'kegg_enrichment_gluc_hpt_chow.csv'),\n",
    "                            row.names=1,\n",
    "                             sep=','\n",
    "    )\n",
    "}"
   ]
  },
  {
   "cell_type": "code",
   "execution_count": 106,
   "metadata": {},
   "outputs": [],
   "source": [
    "# intersection of overlaping genes\n",
    "if(bool_plot){  \n",
    "    pdf(file=file.path(dir_fig, \"upset_glucose_association_gene_expression.pdf\"))\n",
    "        \n",
    "    ups <- plotUpset(analyses=list(glucHipChow=glucHipChow, \n",
    "                                     glucHipHfd=glucHipHfd, \n",
    "                                     glucHptChow=glucHptChow, \n",
    "                                     glucHptHfd=glucHptHfd\n",
    "                     ),\n",
    "                     cut_off=0.05,\n",
    "                     col_interest=1\n",
    "    )\n",
    "    dev.off()\n",
    "}\n",
    "#ups"
   ]
  },
  {
   "cell_type": "code",
   "execution_count": 107,
   "metadata": {},
   "outputs": [],
   "source": [
    "# Enrichment analysis of selected pathways\n",
    "if(bool_plot){\n",
    "    enrich <- ggplot(rbind(kkGlucHipChow, kkGlucHptChow, kkGlucHptHfd), \n",
    "                     aes(Comparison, Description, col=p.adjust, size=Count)) + \n",
    "                     geom_point()+ \n",
    "                     scale_colour_gradient(low=\"red\", high=\"blue\") +\n",
    "                     xlab(\"caricadian genes\") + \n",
    "                     ylab(\"enriched pathways\")\n",
    "    \n",
    "    ggsave(file.path(dir_fig, \"kegg_enrichment_selected_pathawys_glucose_association.pdf\"))\n",
    "    print(enrich)\n",
    "}"
   ]
  },
  {
   "cell_type": "markdown",
   "metadata": {},
   "source": [
    "### Insulin"
   ]
  },
  {
   "cell_type": "code",
   "execution_count": 108,
   "metadata": {},
   "outputs": [],
   "source": [
    "# association of insulin and hippocampus-chow samples\n",
    "if(bool_recomp | bool_plot){\n",
    "    X <- t(vsd[,tissue_diet %in% \"hippo_chow\"])\n",
    "    insulin <- pfdata[tissue_diet %in% \"hippo_chow\",]$Insulin\n",
    "\n",
    "    insulHipChow <- extract(association(object=gt(insulin, X),\n",
    "                                        col=c(\"darkslategray4\", \"goldenrod4\"),\n",
    "                                        plot=TRUE,\n",
    "                                        plot_name=\"Association between insulin and hippocampus chow data\"\n",
    "                             )      \n",
    "                     )@result\n",
    "    write.csv(insulHipChow, \n",
    "              file.path(dir_tab, 'association_insul_hip_chow.csv')\n",
    "    )\n",
    "} else {\n",
    "    insulHipChow = read.csv(file.path(dir_tab, 'association_insul_hip_chow.csv'),\n",
    "                            row.names=1   \n",
    "    )\n",
    "}"
   ]
  },
  {
   "cell_type": "code",
   "execution_count": 109,
   "metadata": {},
   "outputs": [],
   "source": [
    "# KEGG enrichment of selected pathawys\n",
    "if(bool_recomp){\n",
    "    kkInsulHipChow <- enrichSelectPath(genes=rownames(insulHipChow[(insulHipChow[,1] < 0.05),]),\n",
    "                                       selectPathway=targetGenes$KEGG,\n",
    "                                       cut_off=0.05,\n",
    "                                       name=\"insulHipChow\",\n",
    "                                       orgdb=org.Rn.eg.db,\n",
    "                                       organism='rno'\n",
    "    )\n",
    "    write.csv(kkInsulHipChow, \n",
    "              file.path(dir_tab, 'kegg_enrichment_insul_hip_chow.csv')\n",
    "    )\n",
    "} else {\n",
    "    kkInsulHipChow = read.csv(file.path(dir_tab, 'kegg_enrichment_insul_hip_chow.csv'),\n",
    "                              row.names=1,\n",
    "                              sep=','\n",
    "    )\n",
    "}"
   ]
  },
  {
   "cell_type": "code",
   "execution_count": 110,
   "metadata": {},
   "outputs": [],
   "source": [
    "# association of insulin and hippocampus-hfd samples\n",
    "if(bool_recomp | bool_plot){\n",
    "    X <- t(vsd[,tissue_diet %in% \"hippo_hfd\"])\n",
    "    insulin <- pfdata[tissue_diet %in% \"hippo_hfd\",]$Insulin\n",
    "\n",
    "    insulHipHfd <- extract(association(object=gt(insulin, X),\n",
    "                                       col=c(\"darkslategray4\", \"goldenrod4\"),\n",
    "                                       plot=TRUE,\n",
    "                                       plot_name=\"Association between insulin and hippocampus hfd data\"\n",
    "                          )      \n",
    "                  )@result\n",
    "    write.csv(insulHipHfd, \n",
    "              file.path(dir_tab, 'association_insul_hip_hfd.csv')\n",
    "    )\n",
    "} else {\n",
    "    insulHipHfd = read.csv(file.path(dir_tab, 'association_insul_hip_hfd.csv'),\n",
    "                           row.names=1\n",
    "    )\n",
    "}"
   ]
  },
  {
   "cell_type": "code",
   "execution_count": 111,
   "metadata": {},
   "outputs": [],
   "source": [
    "# KEGG enrichment of selected pathawys\n",
    "if(bool_recomp){\n",
    "    kkInsulHipHfd <- enrichSelectPath(genes=rownames(insulHipHfd[(insulHipHfd[,1] < 0.05),]),\n",
    "                                      selectPathway=targetGenes$KEGG,\n",
    "                                      cut_off=0.05,\n",
    "                                      name=\"insulHipHfd\",\n",
    "                                      orgdb=org.Rn.eg.db,\n",
    "                                      organism='rno'\n",
    "    )\n",
    "    write.csv(kkInsulHipHfd, \n",
    "              file.path(dir_tab, 'kegg_enrichment_insul_hip_hfd.csv')\n",
    "    )\n",
    "} else {\n",
    "    kkInsulHipHfd = read.csv(file.path(dir_tab, 'kegg_enrichment_insul_hip_hfd.csv'),\n",
    "                             row.names=1,\n",
    "                             sep=','\n",
    "    )\n",
    "}"
   ]
  },
  {
   "cell_type": "code",
   "execution_count": 112,
   "metadata": {},
   "outputs": [],
   "source": [
    "# association of insulin and hypothalamus-chow samples\n",
    "if(bool_recomp | bool_plot){\n",
    "    X <- t(vsd[,tissue_diet %in% \"hpt_chow\"])\n",
    "    insulin <- pfdata[tissue_diet %in% \"hpt_chow\",]$Insulin\n",
    "\n",
    "    insulHptChow <- extract(association(object=gt(insulin, X),\n",
    "                                        col=c(\"darkslategray4\", \"goldenrod4\"),\n",
    "                                        plot=TRUE,\n",
    "                                        plot_name=\"Association between insulin and hypothalamus chow data\"\n",
    "                             )      \n",
    "                     )@result\n",
    "    write.csv(insulHptChow, \n",
    "              file.path(dir_tab, 'association_insul_hpt_chow.csv')\n",
    "    )\n",
    "} else {\n",
    "    insulHptChow = read.csv(file.path(dir_tab, 'association_insul_hpt_chow.csv'),\n",
    "                            row.names=1\n",
    "    )\n",
    "}    "
   ]
  },
  {
   "cell_type": "code",
   "execution_count": 113,
   "metadata": {},
   "outputs": [],
   "source": [
    "# KEGG enrichment of selected pathawys\n",
    "if(bool_recomp){\n",
    "    kkInsulHptChow <- enrichSelectPath(genes=rownames(insulHptChow[(insulHptChow[,1] < 0.05),]),\n",
    "                                       selectPathway=targetGenes$KEGG,\n",
    "                                       cut_off=0.05,\n",
    "                                       name=\"insulHptChow\",\n",
    "                                       orgdb=org.Rn.eg.db,\n",
    "                                       organism='rno'\n",
    "    )\n",
    "    write.csv(kkInsulHptChow, \n",
    "              file.path(dir_tab, 'kegg_enrichment_insul_hpt_chow.csv')\n",
    "    )\n",
    "} else {\n",
    "    kkInsulHptChow = read.csv(file.path(dir_tab, 'kegg_enrichment_insul_hpt_chow.csv'), \n",
    "                              row.names=1,\n",
    "                              sep=','\n",
    "    )\n",
    "}"
   ]
  },
  {
   "cell_type": "code",
   "execution_count": 114,
   "metadata": {},
   "outputs": [],
   "source": [
    "# association of insulin and hypothalamus-hfd samples\n",
    "if(bool_recomp | bool_plot){\n",
    "    X <- t(vsd[,tissue_diet %in% \"hpt_hfd\"])\n",
    "    insulin <- pfdata[tissue_diet %in% \"hpt_hfd\",]$Insulin\n",
    "\n",
    "    insulHptHfd <- extract(association(object=gt(insulin, X),\n",
    "                                       col=c(\"darkslategray4\", \"goldenrod4\"),\n",
    "                                       plot=TRUE,\n",
    "                                       plot_name=\"Association between insulin and hypothalamus hfd data\"\n",
    "                          )      \n",
    "                  )@result\n",
    "    write.csv(insulHptHfd, \n",
    "              file.path(dir_tab, 'association_insul_hpt_hfd.csv')\n",
    "    )\n",
    "} else {\n",
    "    insulHptHfd = read.csv(file.path(dir_tab, 'association_insul_hpt_hfd.csv'),\n",
    "                           row.names=1\n",
    "    )\n",
    "}    "
   ]
  },
  {
   "cell_type": "code",
   "execution_count": 115,
   "metadata": {},
   "outputs": [],
   "source": [
    "# KEGG enrichment of selected pathawys\n",
    "if(bool_recomp){\n",
    "    kkInsulHptHfd <- enrichSelectPath(genes=rownames(insulHptHfd[(insulHptHfd[,1] < 0.05),]),\n",
    "                                      selectPathway=targetGenes$KEGG,\n",
    "                                      cut_off=0.05,\n",
    "                                      name=\"insulHptHfd\",\n",
    "                                      orgdb=org.Rn.eg.db,\n",
    "                                      organism='rno'\n",
    "    )\n",
    "    write.csv(kkInsulHptHfd,\n",
    "              file.path(dir_tab, 'kegg_enrichment_insul_hpt_chow.csv')\n",
    "    )\n",
    "} else {\n",
    "    kkInsulHptHfd = read.csv(file.path(dir_tab, 'kegg_enrichment_insul_hpt_chow.csv'),\n",
    "                             row.names=1,\n",
    "                             sep=','\n",
    "    )\n",
    "}"
   ]
  },
  {
   "cell_type": "code",
   "execution_count": 116,
   "metadata": {},
   "outputs": [
    {
     "ename": "ERROR",
     "evalue": "Error in eval(expr, envir, enclos): объект 'ups' не найден\n",
     "output_type": "error",
     "traceback": [
      "Error in eval(expr, envir, enclos): объект 'ups' не найден\nTraceback:\n"
     ]
    }
   ],
   "source": [
    "# intersection of overlaping genes\n",
    "if(bool_plot){  \n",
    "    pdf(file=file.path(dir_fig, \"upset_insulin_association_gene_expression.pdf\"))\n",
    "    \n",
    "    ups <- plotUpset(analyses=list(insulHipChow=insulHipChow, \n",
    "                                     insulHipHfd=insulHipHfd, \n",
    "                                     insulHptChow=insulHptChow, \n",
    "                                     insulHptHfd=insulHptHfd\n",
    "                     ),\n",
    "                     cut_off=0.05,\n",
    "                     col_interest=1\n",
    "    )\n",
    "    dev.off()\n",
    "}\n",
    "ups"
   ]
  },
  {
   "cell_type": "markdown",
   "metadata": {},
   "source": [
    "### Free fatty acids"
   ]
  },
  {
   "cell_type": "code",
   "execution_count": 117,
   "metadata": {},
   "outputs": [],
   "source": [
    "# association of free fatty acids and hippocampus-chow samples\n",
    "if(bool_recomp | bool_plot){\n",
    "    X <- t(vsd[,tissue_diet %in% \"hippo_chow\"])\n",
    "    free_fatty_acids <- pfdata[tissue_diet %in% \"hippo_chow\",]$Free_fatty_acids\n",
    "\n",
    "    ffaHipChow <- extract(association(object=gt(free_fatty_acids, X),\n",
    "                                      col=c(\"darkslategray4\", \"goldenrod4\"),\n",
    "                                      plot=TRUE,\n",
    "                                      plot_name=\"Association between free fatty acids and hippocampus chow data\"\n",
    "                             )      \n",
    "                     )@result\n",
    "    write.csv(ffaHipChow, \n",
    "              file.path(dir_tab, 'association_ffa_hip_chow.csv')\n",
    "    )\n",
    "} else {\n",
    "    ffaHipChow = read.csv(file.path(dir_tab, 'association_ffa_hip_chow.csv'), \n",
    "                          row.names=1\n",
    "    )\n",
    "}"
   ]
  },
  {
   "cell_type": "code",
   "execution_count": 118,
   "metadata": {},
   "outputs": [],
   "source": [
    "# KEGG enrichment of selected pathawys\n",
    "if(bool_recomp){\n",
    "    kkFfaHipChow <- enrichSelectPath(genes=rownames(ffaHipChow[(ffaHipChow[,1] < 0.05),]),\n",
    "                                     selectPathway=targetGenes$KEGG,\n",
    "                                     cut_off=0.05,\n",
    "                                     name=\"ffaHipChow\",\n",
    "                                     orgdb=org.Rn.eg.db,\n",
    "                                     organism='rno'\n",
    "    )\n",
    "    write.csv(kkFfaHipChow, \n",
    "              file.path(dir_tab, 'kegg_enrichment_ffa_hip_chow.csv')\n",
    "    )\n",
    "} else {\n",
    "    kkFfaHipChow = read.csv(file.path(dir_tab, 'kegg_enrichment_ffa_hip_chow.csv'),\n",
    "                            row.names=1,\n",
    "                            sep=','\n",
    "    )\n",
    "}"
   ]
  },
  {
   "cell_type": "code",
   "execution_count": 119,
   "metadata": {},
   "outputs": [],
   "source": [
    "# association of free fatty acids and hippocampus-hfd samples\n",
    "if(bool_recomp | bool_plot){\n",
    "    X <- t(vsd[,tissue_diet %in% \"hippo_hfd\"])\n",
    "    free_fatty_acids <- pfdata[tissue_diet %in% \"hippo_hfd\",]$Free_fatty_acids\n",
    "\n",
    "    ffaHipHfd <- extract(association(object=gt(free_fatty_acids, X),\n",
    "                                     col=c(\"darkslategray4\", \"goldenrod4\"),\n",
    "                                     plot=TRUE,\n",
    "                                     plot_name=\"Association between free fatty acids and hippocampus hfd data\"\n",
    "                          )      \n",
    "                  )@result\n",
    "    write.csv(ffaHipHfd, \n",
    "              file.path(dir_tab, 'association_ffa_hip_hfd.csv')\n",
    "    )\n",
    "} else {\n",
    "    ffaHipHfd = read.csv(file.path(dir_tab, 'association_ffa_hip_hfd.csv'), \n",
    "                         row.names=1\n",
    "    )\n",
    "}"
   ]
  },
  {
   "cell_type": "code",
   "execution_count": 120,
   "metadata": {},
   "outputs": [],
   "source": [
    "# KEGG enrichment of selected pathawys\n",
    "if(bool_recomp){\n",
    "    kkFfaHipHfd <- enrichSelectPath(genes=rownames(ffaHipHfd[(ffaHipHfd[,1]<0.05),]),\n",
    "                                    selectPathway=targetGenes$KEGG,\n",
    "                                    cut_off=0.05,\n",
    "                                    name=\"ffaHipHfd\",\n",
    "                                    orgdb=org.Rn.eg.db,\n",
    "                                    organism='rno'\n",
    "    )\n",
    "    write.csv(kkFfaHipHfd, \n",
    "              file.path(dir_tab, 'kegg_enrichment_ffa_hip_hfd.csv')\n",
    "    )\n",
    "} else {\n",
    "    kkFfaHipHfd = read.csv(file.path(dir_tab, 'kegg_enrichment_ffa_hip_hfd.csv'), \n",
    "                           row.names=1,\n",
    "                           sep=','\n",
    "    )\n",
    "}"
   ]
  },
  {
   "cell_type": "code",
   "execution_count": 121,
   "metadata": {},
   "outputs": [],
   "source": [
    "# association of free fatty acids and hypothalamus-chow samples\n",
    "if(bool_recomp | bool_plot){\n",
    "    X <- t(vsd[,tissue_diet %in% \"hpt_chow\"])\n",
    "    free_fatty_acids <- pfdata[tissue_diet %in% \"hpt_chow\",]$Free_fatty_acids\n",
    "\n",
    "    ffaHptChow <- extract(association(object=gt(free_fatty_acids, X),\n",
    "                                      col=c(\"darkslategray4\", \"goldenrod4\"),\n",
    "                                      plot=TRUE,\n",
    "                                      plot_name=\"Association between free fatty acids and hypothalamus chow data\"\n",
    "                             )      \n",
    "                     )@result\n",
    "    write.csv(ffaHptChow, \n",
    "              file.path(dir_tab, 'association_ffa_hpt_chow.csv')\n",
    "    )\n",
    "} else {\n",
    "    ffaHptChow = read.csv(file.path(dir_tab, 'association_ffa_hpt_chow.csv'),\n",
    "                          row.names=1\n",
    "    )\n",
    "}    "
   ]
  },
  {
   "cell_type": "code",
   "execution_count": 122,
   "metadata": {},
   "outputs": [],
   "source": [
    "# KEGG enrichment of selected pathawys\n",
    "if(bool_recomp){\n",
    "    kkFfaHptChow <- enrichSelectPath(genes=rownames(ffaHptChow[(ffaHptChow[,1] < 0.05),]),\n",
    "                                     selectPathway=targetGenes$KEGG,\n",
    "                                     cut_off=0.05,\n",
    "                                     name=\"ffaHptChow\",\n",
    "                                     orgdb=org.Rn.eg.db,\n",
    "                                     organism='rno'\n",
    "    )\n",
    "    write.csv(kkFfaHptChow, \n",
    "              file.path(dir_tab, 'kegg_enrichment_ffa_hpt_chow.csv')\n",
    "    )\n",
    "} else {\n",
    "    kkFfaHptChow = read.csv(file.path(dir_tab, 'kegg_enrichment_ffa_hpt_chow.csv'),\n",
    "                            row.names=1,\n",
    "                            sep=','\n",
    "    )\n",
    "}"
   ]
  },
  {
   "cell_type": "code",
   "execution_count": 123,
   "metadata": {},
   "outputs": [],
   "source": [
    "# association of free fatty acids and hippocampus-hfd samples\n",
    "if(bool_recomp | bool_plot){\n",
    "    X <- t(vsd[,tissue_diet %in% \"hpt_hfd\"])\n",
    "    free_fatty_acids <- pfdata[tissue_diet %in% \"hpt_hfd\",]$Free_fatty_acids\n",
    "\n",
    "    ffaHptHfd <- extract(association(object=gt(free_fatty_acids, X),\n",
    "                                     col=c(\"darkslategray4\", \"goldenrod4\"),\n",
    "                                     plot=TRUE,\n",
    "                                     plot_name=\"Association between free fatty acids and hypothalamus chow data\"\n",
    "                          )      \n",
    "                  )@result\n",
    "    write.csv(ffaHptHfd, \n",
    "              file.path(dir_tab, 'association_ffa_hpt_hfd.csv')\n",
    "    )\n",
    "} else {\n",
    "    ffaHptHfd = read.csv(file.path(dir_tab, 'association_ffa_hpt_hfd.csv'),\n",
    "                         row.names=1\n",
    "    )\n",
    "}    "
   ]
  },
  {
   "cell_type": "code",
   "execution_count": 124,
   "metadata": {},
   "outputs": [],
   "source": [
    "# KEGG enrichment of selected pathawys\n",
    "if(bool_recomp){\n",
    "    kkFfaHptHfd <- enrichSelectPath(genes=rownames(ffaHptHfd[(ffaHptHfd[,1] < 0.05),]),\n",
    "                                    selectPathway=targetGenes$KEGG,\n",
    "                                    cut_off=0.05,\n",
    "                                    name=\"ffaHptHfd\",\n",
    "                                    orgdb=org.Rn.eg.db,\n",
    "                                    organism='rno'\n",
    "    )\n",
    "    write.csv(kkFfaHptHfd, \n",
    "              file.path(dir_tab, 'kegg_enrichment_ffa_hpt_chow.csv')\n",
    "    )\n",
    "} else {\n",
    "    kkFfaHptHfd = read.csv(file.path(dir_tab, 'kegg_enrichment_ffa_hpt_chow.csv'),\n",
    "                           row.names=1,\n",
    "                           sep=','\n",
    "    )\n",
    "}"
   ]
  },
  {
   "cell_type": "code",
   "execution_count": 125,
   "metadata": {},
   "outputs": [
    {
     "ename": "ERROR",
     "evalue": "Error in eval(expr, envir, enclos): объект 'ups' не найден\n",
     "output_type": "error",
     "traceback": [
      "Error in eval(expr, envir, enclos): объект 'ups' не найден\nTraceback:\n"
     ]
    }
   ],
   "source": [
    "# intersection of overlaping genes\n",
    "if(bool_plot){  \n",
    "    pdf(file=file.path(dir_fig, \"upset_ffa_association_gene_expression.pdf\"))\n",
    "    ups <- plotUpset(analyses=list(ffaHipChow=ffaHipChow, \n",
    "                                     ffaHipHfd=ffaHipHfd, \n",
    "                                     ffaHptChow=ffaHptChow, \n",
    "                                     ffaHptHfd=ffaHptHfd\n",
    "                     ),\n",
    "                     cut_off=0.05,\n",
    "                     col_interest=1\n",
    "    )\n",
    "    dev.off()\n",
    "}\n",
    "ups"
   ]
  },
  {
   "cell_type": "code",
   "execution_count": 126,
   "metadata": {},
   "outputs": [],
   "source": [
    "# Enrichment analysis of selected pathways\n",
    "if(bool_plot){\n",
    "    enrich <- ggplot(rbind(kkFfaHipChow, kkFfaHipHfd, kkFfaHptChow, kkFfaHptHfd), \n",
    "                     aes(Comparison, Description, col=p.adjust, size=Count)) + \n",
    "                     geom_point()+ \n",
    "                     scale_colour_gradient(low=\"red\", high=\"blue\") +\n",
    "                     xlab(\"caricadian genes\") + \n",
    "                     ylab(\"enriched pathways\")\n",
    "    \n",
    "    ggsave(file.path(dir_fig, \"kegg_enrichment_selected_pathawys_ffa_association.pdf\"))\n",
    "    print(enrich)\n",
    "}"
   ]
  },
  {
   "cell_type": "markdown",
   "metadata": {},
   "source": [
    "## Association of selected pathways with periferial data"
   ]
  },
  {
   "cell_type": "code",
   "execution_count": 127,
   "metadata": {},
   "outputs": [],
   "source": [
    "# get genes from the pathways of interest\n",
    "keggGenes <- list()\n",
    "for(i in 1:30){\n",
    "    kg <- pull(read_excel('kegg_genes.xlsx')[,i])\n",
    "    keggGenes[[targetGenes$KEGG[i]]] <- kg[!is.na(kg)]\n",
    "}"
   ]
  },
  {
   "cell_type": "markdown",
   "metadata": {},
   "source": [
    "### Glucose"
   ]
  },
  {
   "cell_type": "code",
   "execution_count": 128,
   "metadata": {
    "scrolled": false
   },
   "outputs": [],
   "source": [
    "# association of glucose and hippocampus-chow samples\n",
    "if(bool_recomp | bool_plot){\n",
    "    gluc_hip_chow <- numeric()\n",
    "    r_gluc_hip_chow <- data.frame()\n",
    "    X <- t(vsd[,tissue_diet %in% \"hippo_chow\"])\n",
    "    glucose <- pfdata[tissue_diet %in% \"hippo_chow\",]$Glucose\n",
    "\n",
    "    r_gluc_hip_chow <- pathway_association(x_data=X,\n",
    "                                           y_data=glucose,\n",
    "                                           pathways=targetGenes$Pathways,\n",
    "                                           pathways_genes=keggGenes\n",
    "    )\n",
    "    write.csv(r_gluc_hip_chow, \n",
    "              file.path(dir_tab, 'signif_pathway_association_gluc_hip_chow.csv')\n",
    "    )\n",
    "} else {\n",
    "    r_gluc_hip_chow = read.csv(file.path(dir_tab, 'signif_pathway_association_gluc_hip_chow.csv'), \n",
    "                               row.names=1\n",
    "    )\n",
    "}"
   ]
  },
  {
   "cell_type": "code",
   "execution_count": 129,
   "metadata": {},
   "outputs": [
    {
     "ename": "ERROR",
     "evalue": "Error in read.table(file = file, header = header, sep = sep, quote = quote, : first five rows are empty: giving up\n",
     "output_type": "error",
     "traceback": [
      "Error in read.table(file = file, header = header, sep = sep, quote = quote, : first five rows are empty: giving up\nTraceback:\n",
      "1. read.csv(file.path(dir_tab, \"signif_pathway_association_gluc_hip_hfd.csv\"), \n .     row.names = 1)   # at line 17-19 of file <text>",
      "2. read.table(file = file, header = header, sep = sep, quote = quote, \n .     dec = dec, fill = fill, comment.char = comment.char, ...)",
      "3. stop(\"first five rows are empty: giving up\")"
     ]
    }
   ],
   "source": [
    "# association of glucose and hippocampus-hfd samples\n",
    "if(bool_recomp | bool_plot){\n",
    "    gluc_hip_hfd <- numeric()\n",
    "    r_gluc_hip_hfd <- data.frame()\n",
    "    X <- t(vsd[,tissue_diet %in% \"hippo_hfd\"])\n",
    "    glucose <- pfdata[tissue_diet %in% \"hippo_hfd\",]$Glucose\n",
    "\n",
    "    r_gluc_hip_hfd <- pathway_association(x_data=X,\n",
    "                                           y_data=glucose,\n",
    "                                           pathways=targetGenes$Pathways,\n",
    "                                           pathways_genes=keggGenes\n",
    "    )\n",
    "    write.csv(r_gluc_hip_hfd, \n",
    "              file.path(dir_tab, 'signif_pathway_association_gluc_hip_hfd.csv')\n",
    "    )\n",
    "} else {\n",
    "    r_gluc_hip_hfd = read.csv(file.path(dir_tab, 'signif_pathway_association_gluc_hip_hfd.csv'), \n",
    "                              row.names=1\n",
    "    )\n",
    "}"
   ]
  },
  {
   "cell_type": "code",
   "execution_count": 130,
   "metadata": {
    "scrolled": false
   },
   "outputs": [],
   "source": [
    "# association of glucose and hypothalamus-chow samples\n",
    "if(bool_recomp | bool_plot){\n",
    "    gluc_hpt_chow <- numeric()\n",
    "    r_gluc_hpt_chow <- data.frame()\n",
    "    X <- t(vsd[,tissue_diet %in% \"hpt_chow\"])\n",
    "    glucose <- pfdata[tissue_diet %in% \"hpt_chow\",]$Glucose\n",
    "\n",
    "    r_gluc_hpt_chow <- pathway_association(x_data=X,\n",
    "                                           y_data=glucose,\n",
    "                                           pathways=targetGenes$Pathways,\n",
    "                                           pathways_genes=keggGenes\n",
    "    )\n",
    "    write.csv(r_gluc_hpt_chow, \n",
    "              file.path(dir_tab, 'signif_pathway_association_gluc_hpt_chow.csv')\n",
    "    )\n",
    "} else {\n",
    "    r_gluc_hpt_chow = read.csv(file.path(dir_tab, 'signif_pathway_association_gluc_hpt_chow.csv'), \n",
    "                               row.names=1\n",
    "    )\n",
    "}"
   ]
  },
  {
   "cell_type": "code",
   "execution_count": 131,
   "metadata": {
    "scrolled": false
   },
   "outputs": [],
   "source": [
    "# association of glucose and hypothalamus-hfd samples\n",
    "if(bool_recomp | bool_plot){\n",
    "    gluc_hpt_hfd <- numeric()\n",
    "    r_gluc_hpt_hfd <- data.frame()\n",
    "    X <- t(vsd[,tissue_diet %in% \"hpt_hfd\"])\n",
    "    glucose <- pfdata[tissue_diet %in% \"hpt_hfd\",]$Glucose\n",
    "\n",
    "    r_gluc_hpt_hfd <- pathway_association(x_data=X,\n",
    "                                          y_data=glucose,\n",
    "                                          pathways=targetGenes$Pathways,\n",
    "                                          pathways_genes=keggGenes\n",
    "    )\n",
    "    write.csv(r_gluc_hpt_hfd,\n",
    "              file.path(dir_tab, 'signif_pathway_association_gluc_hpt_hfd.csv')\n",
    "    )\n",
    "} else {\n",
    "    r_gluc_hpt_hfd = read.csv(file.path(dir_tab, 'signif_pathway_association_gluc_hpt_hfd.csv'),\n",
    "                              row.names=1\n",
    "    )\n",
    "}"
   ]
  },
  {
   "cell_type": "markdown",
   "metadata": {},
   "source": [
    "### Insulin"
   ]
  },
  {
   "cell_type": "code",
   "execution_count": 142,
   "metadata": {},
   "outputs": [],
   "source": [
    "# association of insulin and hippocampus-chow samples\n",
    "if(bool_recomp | bool_plot){\n",
    "    insul_hip_chow <- numeric()\n",
    "    r_insul_hip_chow <- data.frame()\n",
    "    X <- t(vsd[,tissue_diet %in% \"hippo_chow\"])\n",
    "    insulin <- pfdata[tissue_diet %in% \"hippo_chow\",]$Insulin\n",
    "\n",
    "    r_insul_hip_chow <- pathway_association(x_data=X,\n",
    "                                            y_data=insulin,\n",
    "                                            pathways=targetGenes$Pathways,\n",
    "                                            pathways_genes=keggGenes\n",
    "    )\n",
    "    write.csv(r_insul_hip_chow, \n",
    "              file.path(dir_tab, 'signif_pathway_association_insul_hip_chow.csv')\n",
    "    )\n",
    "} else {\n",
    "    r_insul_hip_chow = read.csv(file.path(dir_tab, 'signif_pathway_association_insul_hip_chow.csv'),\n",
    "                                row.names=1\n",
    "    )\n",
    "}"
   ]
  },
  {
   "cell_type": "code",
   "execution_count": 143,
   "metadata": {},
   "outputs": [],
   "source": [
    "# association of insulin and hippocampus-hfd samples\n",
    "if(bool_recomp | bool_plot){\n",
    "    insul_hip_hfd <- numeric()\n",
    "    r_insul_hip_hfd <- data.frame()\n",
    "    X <- t(vsd[,tissue_diet %in% \"hippo_hfd\"])\n",
    "    insulin <- pfdata[tissue_diet %in% \"hippo_hfd\",]$Insulin\n",
    "\n",
    "    r_insul_hip_hfd <- pathway_association(x_data=X,\n",
    "                                            y_data=insulin,\n",
    "                                            pathways=targetGenes$Pathways,\n",
    "                                            pathways_genes=keggGenes\n",
    "    )\n",
    "    write.csv(r_insul_hip_hfd, \n",
    "              file.path(dir_tab, 'signif_pathway_association_insul_hip_hfd.csv')\n",
    "    )\n",
    "} else {\n",
    "    r_insul_hip_hfd = read.csv(file.path(dir_tab, 'signif_pathway_association_insul_hip_hfd.csv'),\n",
    "                               row.names=1\n",
    "    )\n",
    "}"
   ]
  },
  {
   "cell_type": "code",
   "execution_count": 144,
   "metadata": {},
   "outputs": [],
   "source": [
    "# association of insulin and hypothalamus-chow samples\n",
    "if(bool_recomp | bool_plot){\n",
    "    insul_hpt_chow <- numeric()\n",
    "    r_insul_hpt_chow <- data.frame()\n",
    "    X <- t(vsd[,tissue_diet %in% \"hpt_chow\"])\n",
    "    insulin <- pfdata[tissue_diet %in% \"hpt_chow\",]$Insulin\n",
    "\n",
    "    r_insul_hpt_chow <- pathway_association(x_data=X,\n",
    "                                            y_data=insulin,\n",
    "                                            pathways=targetGenes$Pathways,\n",
    "                                            pathways_genes=keggGenes\n",
    "    )\n",
    "    write.csv(r_insul_hpt_chow, \n",
    "              file.path(dir_tab, 'signif_pathway_association_insul_hpt_chow.csv')\n",
    "    )\n",
    "} else {\n",
    "    r_insul_hpt_chow = read.csv(file.path(dir_tab, 'signif_pathway_association_insul_hpt_chow.csv'), \n",
    "                                row.names=1\n",
    "    )\n",
    "}"
   ]
  },
  {
   "cell_type": "code",
   "execution_count": 148,
   "metadata": {},
   "outputs": [],
   "source": [
    "# association of insulin and hypothalamus-hfd samples\n",
    "if(bool_recomp | bool_plot){\n",
    "    insul_hpt_hfd <- numeric()\n",
    "    r_insul_hpt_hfd <- data.frame()\n",
    "    X <- t(vsd[,tissue_diet %in% \"hpt_hfd\"])\n",
    "    insulin <- pfdata[tissue_diet %in% \"hpt_hfd\",]$Insulin\n",
    "\n",
    "    r_insul_hpt_hfd <- pathway_association(x_data=X,\n",
    "                                           y_data=insulin,\n",
    "                                           pathways=targetGenes$Pathways,\n",
    "                                           pathways_genes=keggGenes\n",
    "    )\n",
    "    write.csv(r_insul_hpt_hfd, \n",
    "              file.path(dir_tab, 'signif_pathway_association_insul_hpt_hfd.csv')\n",
    "    )\n",
    "} else {\n",
    "    r_insul_hpt_hfd = read.csv(file.path(dir_tab, 'signif_pathway_association_insul_hpt_hfd.csv'), \n",
    "                               row.names=1\n",
    "    )\n",
    "}"
   ]
  },
  {
   "cell_type": "markdown",
   "metadata": {},
   "source": [
    "### Free fatty acids"
   ]
  },
  {
   "cell_type": "code",
   "execution_count": 153,
   "metadata": {
    "scrolled": false
   },
   "outputs": [],
   "source": [
    "# association of free fatty acids and hippocampus-chow samples\n",
    "if(bool_recomp | bool_plot){\n",
    "    ffa_hip_chow <- numeric()\n",
    "    r_ffa_hip_chow <- data.frame()\n",
    "    X <- t(vsd[,tissue_diet %in% \"hippo_chow\"])\n",
    "    free_fatty_acids <- pfdata[tissue_diet %in% \"hippo_chow\",]$Free_fatty_acids\n",
    "\n",
    "    r_ffa_hip_chow <- pathway_association(x_data=X,\n",
    "                                           y_data=free_fatty_acids,\n",
    "                                           pathways=targetGenes$Pathways,\n",
    "                                           pathways_genes=keggGenes\n",
    "    )\n",
    "    write.csv(r_ffa_hip_chow, \n",
    "              file.path(dir_tab, 'signif_pathway_association_ffa_hip_chow.csv')\n",
    "    )\n",
    "} else {\n",
    "    r_ffa_hip_chow = read.csv(file.path(dir_tab, 'signif_pathway_association_ffa_hip_chow.csv'),\n",
    "                              row.names=1\n",
    "    )\n",
    "}"
   ]
  },
  {
   "cell_type": "code",
   "execution_count": 154,
   "metadata": {
    "scrolled": false
   },
   "outputs": [],
   "source": [
    "# association of free fatty acids and hippocampus-hfd samples\n",
    "if(bool_recomp | bool_plot){\n",
    "    ffa_hip_hfd <- numeric()\n",
    "    r_ffa_hip_hfd <- data.frame()\n",
    "    X <- t(vsd[,tissue_diet %in% \"hippo_hfd\"])\n",
    "    free_fatty_acids <- pfdata[tissue_diet %in% \"hippo_hfd\",]$Free_fatty_acids\n",
    "\n",
    "    r_ffa_hip_hfd <- pathway_association(x_data=X,\n",
    "                                         y_data=free_fatty_acids,\n",
    "                                         pathways=targetGenes$Pathways,\n",
    "                                         pathways_genes=keggGenes\n",
    "    )\n",
    "    write.csv(r_ffa_hip_hfd,\n",
    "              file.path(dir_tab, 'signif_pathway_association_insul_hip_hfd.csv')\n",
    "    )\n",
    "} else {\n",
    "    r_ffa_hip_hfd = read.csv(file.path(dir_tab, 'signif_pathway_association_ffa_hip_hfd.csv'),\n",
    "                             row.names=1\n",
    "    )\n",
    "}"
   ]
  },
  {
   "cell_type": "code",
   "execution_count": 151,
   "metadata": {
    "scrolled": false
   },
   "outputs": [],
   "source": [
    "# association of free fatty acids and hypothalamus-chow samples\n",
    "if(bool_recomp | bool_plot){\n",
    "    ffa_hpt_chow <- numeric()\n",
    "    r_ffa_hpt_chow <- data.frame()\n",
    "    X <- t(vsd[,tissue_diet %in% \"hpt_chow\"])\n",
    "    free_fatty_acids <- pfdata[tissue_diet %in% \"hpt_chow\",]$Free_fatty_acids\n",
    "\n",
    "    r_ffa_hpt_chow <- pathway_association(x_data=X,\n",
    "                                         y_data=free_fatty_acids,\n",
    "                                         pathways=targetGenes$Pathways,\n",
    "                                         pathways_genes=keggGenes\n",
    "    )\n",
    "    write.csv(r_ffa_hpt_chow, \n",
    "              file.path(dir_tab, 'signif_pathway_association_ffa_hpt_chow.csv')\n",
    "    )\n",
    "} else {\n",
    "    r_ffa_hpt_chow = read.csv(file.path(dir_tab, 'signif_pathway_association_ffa_hpt_chow.csv'),\n",
    "                              row.names=1\n",
    "    )\n",
    "}"
   ]
  },
  {
   "cell_type": "code",
   "execution_count": 155,
   "metadata": {
    "scrolled": false
   },
   "outputs": [],
   "source": [
    "# association of free fatty acids and hypothalamus-hfd samples\n",
    "if(bool_recomp | bool_plot){\n",
    "    ffa_hpt_hfd <- numeric()\n",
    "    r_ffa_hpt_hfd <- data.frame()\n",
    "    X <- t(vsd[,tissue_diet %in% \"hpt_hfd\"])\n",
    "    free_fatty_acids <- pfdata[tissue_diet %in% \"hpt_hfd\",]$Free_fatty_acids\n",
    "\n",
    "    r_ffa_hpt_hfd <- pathway_association(x_data=X,\n",
    "                                         y_data=free_fatty_acids,\n",
    "                                         pathways=targetGenes$Pathways,\n",
    "                                         pathways_genes=keggGenes\n",
    "    )\n",
    "    write.csv(r_ffa_hpt_hfd,\n",
    "              file.path(dir_tab, 'signif_pathway_association_ffa_hpt_hfd.csv')\n",
    "    )\n",
    "} else {\n",
    "    r_ffa_hpt_hfd = read.csv(file.path(dir_tab, 'signif_pathway_association_ffa_hpt_hfd.csv'), \n",
    "                             row.names=1\n",
    "    )\n",
    "}"
   ]
  },
  {
   "cell_type": "markdown",
   "metadata": {},
   "source": [
    "## Association of target gene groups with periferial data"
   ]
  },
  {
   "cell_type": "markdown",
   "metadata": {},
   "source": [
    "### Glucose"
   ]
  },
  {
   "cell_type": "code",
   "execution_count": 156,
   "metadata": {},
   "outputs": [],
   "source": [
    "# association of glucose and hippocampus-chow samples - target genes\n",
    "if(bool_recomp | bool_plot){\n",
    "    gluc_hip_chow <- numeric()\n",
    "    r_gluc_hip_chow <- data.frame()\n",
    "    X <- t(vsd[,tissue_diet %in% \"hippo_chow\"])\n",
    "    glucose <- pfdata[tissue_diet %in% \"hippo_chow\",]$Glucose\n",
    "\n",
    "    r_gluc_hip_chow <- pathway_association(x_data=X,\n",
    "                                           y_data=glucose,\n",
    "                                           pathways=names(targetGenes[1:10]),\n",
    "                                           pathways_genes=targetGenes[1:10]\n",
    "    )\n",
    "    write.csv(r_gluc_hip_chow, \n",
    "              file.path(dir_tab, 'signif_pathway_association_gluc_hip_chow.csv')\n",
    "    )\n",
    "} else {\n",
    "    r_gluc_hip_chow = read.csv(file.path(dir_tab, 'signif_pathway_association_gluc_hip_chow.csv'), \n",
    "                               row.names=1\n",
    "    )\n",
    "}"
   ]
  },
  {
   "cell_type": "code",
   "execution_count": 169,
   "metadata": {},
   "outputs": [],
   "source": [
    "# association of glucose and hippocampus-hfd samples\n",
    "if(bool_recomp | bool_plot){\n",
    "    gluc_hip_hfd <- numeric()\n",
    "    r_gluc_hip_hfd <- data.frame()\n",
    "    X <- t(vsd[,tissue_diet %in% \"hippo_hfd\"])\n",
    "    glucose <- pfdata[tissue_diet %in% \"hippo_hfd\",]$Glucose\n",
    "\n",
    "    r_gluc_hip_hfd <- pathway_association(x_data=X,\n",
    "                                          y_data=glucose,\n",
    "                                          pathways=names(targetGenes[1:10]),\n",
    "                                          pathways_genes=targetGenes[1:10]\n",
    "    )\n",
    "    write.csv(r_gluc_hip_hfd, \n",
    "              file.path(dir_tab, 'signif_pathway_association_gluc_hip_hfd.csv')\n",
    "    )\n",
    "} else {\n",
    "    r_gluc_hip_hfd=read.csv(file.path(dir_tab, 'signif_pathway_association_gluc_hip_hfd.csv'), \n",
    "                              row.names=1\n",
    "    )\n",
    "}"
   ]
  },
  {
   "cell_type": "code",
   "execution_count": 158,
   "metadata": {},
   "outputs": [],
   "source": [
    "options(repr.plot.width=7, repr.plot.height=7)"
   ]
  },
  {
   "cell_type": "code",
   "execution_count": 159,
   "metadata": {
    "scrolled": false
   },
   "outputs": [],
   "source": [
    "# association of glucose and hypothalamus-chow samples\n",
    "if(bool_recomp | bool_plot){\n",
    "    gluc_hpt_chow <- numeric()\n",
    "    r_gluc_hpt_chow <- data.frame()\n",
    "    X <- t(vsd[,tissue_diet %in% \"hpt_chow\"])\n",
    "    glucose <- pfdata[tissue_diet %in% \"hpt_chow\",]$Glucose\n",
    "\n",
    "    r_gluc_hpt_chow <- pathway_association(x_data=X,\n",
    "                                           y_data=glucose,\n",
    "                                           pathways=names(targetGenes[1:10]),\n",
    "                                           pathways_genes=targetGenes[1:10]\n",
    "    )\n",
    "    write.csv(r_gluc_hpt_chow, \n",
    "              file.path(dir_tab, 'signif_pathway_association_gluc_hpt_chow.csv')\n",
    "    )\n",
    "} else {\n",
    "    r_gluc_hpt_chow <- read.csv(file.path(dir_tab, 'signif_pathway_association_gluc_hpt_chow.csv'), \n",
    "                                row.names=1\n",
    "    )\n",
    "}"
   ]
  },
  {
   "cell_type": "code",
   "execution_count": 160,
   "metadata": {
    "scrolled": false
   },
   "outputs": [],
   "source": [
    "# association of glucose and hypothalamus-hfd samples\n",
    "if(bool_recomp | bool_plot){\n",
    "    gluc_hpt_hfd <- numeric()\n",
    "    r_gluc_hpt_hfd <- data.frame()\n",
    "    X <- t(vsd[,tissue_diet %in% \"hpt_hfd\"])\n",
    "    glucose <- pfdata[tissue_diet %in% \"hpt_hfd\",]$Glucose\n",
    "\n",
    "    r_gluc_hpt_hfd <- pathway_association(x_data=X,\n",
    "                                          y_data=glucose,\n",
    "                                          pathways=names(targetGenes[1:10]),\n",
    "                                          pathways_genes=targetGenes[1:10]\n",
    "    )\n",
    "    write.csv(r_gluc_hpt_hfd,\n",
    "              file.path(dir_tab, 'signif_pathway_association_gluc_hpt_hfd.csv')\n",
    "    )\n",
    "} else {\n",
    "    r_gluc_hpt_hfd <- read.csv(file.path(dir_tab, 'signif_pathway_association_gluc_hpt_hfd.csv'),\n",
    "                               row.names=1\n",
    "    )\n",
    "}"
   ]
  },
  {
   "cell_type": "markdown",
   "metadata": {},
   "source": [
    "### Insulin"
   ]
  },
  {
   "cell_type": "code",
   "execution_count": 170,
   "metadata": {},
   "outputs": [],
   "source": [
    "# association of insulin and hippocampus-chow samples\n",
    "if(bool_recomp | bool_plot){\n",
    "    insul_hip_chow <- numeric()\n",
    "    r_insul_hip_chow <- data.frame()\n",
    "    X <- t(vsd[,tissue_diet %in% \"hippo_chow\"])\n",
    "    insulin <- pfdata[tissue_diet %in% \"hippo_chow\",]$Insulin\n",
    "\n",
    "    r_insul_hip_chow <- pathway_association(x_data=X,\n",
    "                                            y_data=insulin,\n",
    "                                            pathways=names(targetGenes[1:10]),\n",
    "                                            pathways_genes=targetGenes[1:10]\n",
    "    )\n",
    "    write.csv(r_insul_hip_chow, \n",
    "              file.path(dir_tab, 'signif_pathway_association_insul_hip_chow.csv')\n",
    "    )\n",
    "} else {\n",
    "    r_insul_hip_chow <- read.csv(file.path(dir_tab, 'signif_pathway_association_insul_hip_chow.csv'),\n",
    "                                 row.names=1\n",
    "    )\n",
    "}"
   ]
  },
  {
   "cell_type": "code",
   "execution_count": 162,
   "metadata": {},
   "outputs": [],
   "source": [
    "# association of insulin and hippocampus-hfd samples\n",
    "if(bool_recomp | bool_plot){\n",
    "    insul_hip_hfd <- numeric()\n",
    "    r_insul_hip_hfd <- data.frame()\n",
    "    X <- t(vsd[,tissue_diet %in% \"hippo_hfd\"])\n",
    "    insulin <- pfdata[tissue_diet %in% \"hippo_hfd\",]$Insulin\n",
    "\n",
    "    r_insul_hip_hfd <- pathway_association(x_data=X,\n",
    "                                            y_data=insulin,\n",
    "                                            pathways=targetGenes$Pathways,\n",
    "                                            pathways_genes=keggGenes\n",
    "    )\n",
    "    write.csv(r_insul_hip_hfd, \n",
    "              file.path(dir_tab, 'signif_pathway_association_insul_hip_hfd.csv')\n",
    "    )\n",
    "} else {\n",
    "    r_insul_hip_hfd <- read.csv(file.path(dir_tab, 'signif_pathway_association_insul_hip_hfd.csv'),\n",
    "                                row.names=1\n",
    "    )\n",
    "}"
   ]
  },
  {
   "cell_type": "code",
   "execution_count": 171,
   "metadata": {},
   "outputs": [],
   "source": [
    "# association of insulin and hypothalamus-chow samples\n",
    "if(bool_recomp | bool_plot){\n",
    "    insul_hpt_chow <- numeric()\n",
    "    r_insul_hpt_chow <- data.frame()\n",
    "    X <- t(vsd[,tissue_diet %in% \"hpt_chow\"])\n",
    "    insulin <- pfdata[tissue_diet %in% \"hpt_chow\",]$Insulin\n",
    "\n",
    "    r_insul_hpt_chow <- pathway_association(x_data=X,\n",
    "                                            y_data=insulin,\n",
    "                                            pathways=names(targetGenes[1:10]),\n",
    "                                            pathways_genes=targetGenes[1:10]\n",
    "    )\n",
    "    write.csv(r_insul_hpt_chow, \n",
    "              file.path(dir_tab, 'signif_pathway_association_insul_hpt_chow.csv')\n",
    "    )\n",
    "} else {\n",
    "    r_insul_hpt_chow <- read.csv(file.path(dir_tab, 'signif_pathway_association_insul_hpt_chow.csv'), \n",
    "                                 row.names=1\n",
    "    )\n",
    "}"
   ]
  },
  {
   "cell_type": "code",
   "execution_count": 172,
   "metadata": {},
   "outputs": [],
   "source": [
    "# association of insulin and hypothalamus-hfd samples\n",
    "if(bool_recomp | bool_plot){\n",
    "    insul_hpt_hfd <- numeric()\n",
    "    r_insul_hpt_hfd <- data.frame()\n",
    "    X <- t(vsd[,tissue_diet %in% \"hpt_hfd\"])\n",
    "    insulin <- pfdata[tissue_diet %in% \"hpt_hfd\",]$Insulin\n",
    "\n",
    "    r_insul_hpt_hfd <- pathway_association(x_data=X,\n",
    "                                           y_data=insulin,\n",
    "                                           pathways=names(targetGenes[1:10]),\n",
    "                                           pathways_genes=targetGenes[1:10]\n",
    "    )\n",
    "    write.csv(r_insul_hpt_hfd, \n",
    "              file.path(dir_tab, 'signif_pathway_association_insul_hpt_hfd.csv')\n",
    "    )\n",
    "} else {\n",
    "    r_insul_hpt_hfd <- read.csv(file.path(dir_tab, 'signif_pathway_association_insul_hpt_hfd.csv'), \n",
    "                                row.names=1\n",
    "    )\n",
    "}"
   ]
  },
  {
   "cell_type": "markdown",
   "metadata": {},
   "source": [
    "### Free fatty acids"
   ]
  },
  {
   "cell_type": "code",
   "execution_count": 173,
   "metadata": {
    "scrolled": false
   },
   "outputs": [],
   "source": [
    "# association of free fatty acids and hippocampus-chow samples\n",
    "if(bool_recomp | bool_plot){\n",
    "    ffa_hip_chow <- numeric()\n",
    "    r_ffa_hip_chow <- data.frame()\n",
    "    X <- t(vsd[,tissue_diet %in% \"hippo_chow\"])\n",
    "    free_fatty_acids <- pfdata[tissue_diet %in% \"hippo_chow\",]$Free_fatty_acids\n",
    "\n",
    "    r_ffa_hip_chow <- pathway_association(x_data=X,\n",
    "                                           y_data=free_fatty_acids,\n",
    "                                           pathways=names(targetGenes[1:10]),\n",
    "                                           pathways_genes=targetGenes[1:10]\n",
    "    )\n",
    "    write.csv(r_ffa_hip_chow, \n",
    "              file.path(dir_tab, 'signif_pathway_association_ffa_hip_chow.csv')\n",
    "    )\n",
    "} else {\n",
    "    r_ffa_hip_chow <- read.csv(file.path(dir_tab, 'signif_pathway_association_ffa_hip_chow.csv'),\n",
    "                               row.names=1\n",
    "    )\n",
    "}"
   ]
  },
  {
   "cell_type": "code",
   "execution_count": 174,
   "metadata": {
    "scrolled": false
   },
   "outputs": [],
   "source": [
    "# association of free fatty acids and hippocampus-hfd samples\n",
    "if(bool_recomp | bool_plot){\n",
    "    ffa_hip_hfd <- numeric()\n",
    "    r_ffa_hip_hfd <- data.frame()\n",
    "    X <- t(vsd[,tissue_diet %in% \"hippo_hfd\"])\n",
    "    free_fatty_acids <- pfdata[tissue_diet %in% \"hippo_hfd\",]$Free_fatty_acids\n",
    "\n",
    "    r_ffa_hip_hfd <- pathway_association(x_data=X,\n",
    "                                         y_data=free_fatty_acids,\n",
    "                                         pathways=names(targetGenes[1:10]),\n",
    "                                         pathways_genes=targetGenes[1:10]\n",
    "    )\n",
    "    write.csv(r_ffa_hip_hfd,\n",
    "              file.path(dir_tab, 'signif_pathway_association_insul_hip_hfd.csv')\n",
    "    )\n",
    "} else {\n",
    "    r_ffa_hip_hfd <- read.csv(file.path(dir_tab, 'signif_pathway_association_ffa_hip_hfd.csv'),\n",
    "                              row.names=1\n",
    "    )\n",
    "}"
   ]
  },
  {
   "cell_type": "code",
   "execution_count": 167,
   "metadata": {
    "scrolled": false
   },
   "outputs": [],
   "source": [
    "# association of free fatty acids and hypothalamus-chow samples\n",
    "if(bool_recomp | bool_plot){\n",
    "    ffa_hpt_chow <- numeric()\n",
    "    r_ffa_hpt_chow <- data.frame()\n",
    "    X <- t(vsd[,tissue_diet %in% \"hpt_chow\"])\n",
    "    free_fatty_acids <- pfdata[tissue_diet %in% \"hpt_chow\",]$Free_fatty_acids\n",
    "\n",
    "    r_ffa_hpt_chow <- pathway_association(x_data=X,\n",
    "                                         y_data=free_fatty_acids,\n",
    "                                         pathways=names(targetGenes[1:10]),\n",
    "                                         pathways_genes=targetGenes[1:10]\n",
    "    )\n",
    "    write.csv(r_ffa_hpt_chow, \n",
    "              file.path(dir_tab, 'signif_pathway_association_ffa_hpt_chow.csv')\n",
    "    )\n",
    "} else {\n",
    "    r_ffa_hpt_chow <- read.csv(file.path(dir_tab, 'signif_pathway_association_ffa_hpt_chow.csv'),\n",
    "                               row.names=1\n",
    "    )\n",
    "}"
   ]
  },
  {
   "cell_type": "code",
   "execution_count": 175,
   "metadata": {
    "scrolled": false
   },
   "outputs": [],
   "source": [
    "# association of free fatty acids and hypothalamus-hfd samples\n",
    "if(bool_recomp | bool_plot){\n",
    "    ffa_hpt_hfd <- numeric()\n",
    "    r_ffa_hpt_hfd <- data.frame()\n",
    "    X <- t(vsd[,tissue_diet %in% \"hpt_hfd\"])\n",
    "    free_fatty_acids <- pfdata[tissue_diet %in% \"hpt_hfd\",]$Free_fatty_acids\n",
    "\n",
    "    r_ffa_hpt_hfd <- pathway_association(x_data=X,\n",
    "                                         y_data=free_fatty_acids,\n",
    "                                         pathways=names(targetGenes[1:10]),\n",
    "                                         pathways_genes=targetGenes[1:10]\n",
    "    )\n",
    "    write.csv(r_ffa_hpt_hfd,\n",
    "              file.path(dir_tab, 'signif_pathway_association_ffa_hpt_hfd.csv')\n",
    "    )\n",
    "} else {\n",
    "    r_ffa_hpt_hfd <- read.csv(file.path(dir_tab, 'signif_pathway_association_ffa_hpt_hfd.csv'), \n",
    "                              row.names=1\n",
    "    )\n",
    "}"
   ]
  },
  {
   "cell_type": "markdown",
   "metadata": {},
   "source": [
    "### Reconstrucction of temporal gene-gene interactions"
   ]
  },
  {
   "cell_type": "code",
   "execution_count": 421,
   "metadata": {},
   "outputs": [],
   "source": [
    "make_uniq <- function (xs, sep=\"-\"){\n",
    "    cumcount <- function (xs) {\n",
    "        counts <- new.env(parent=emptyenv())\n",
    "        setNames(vapply(xs,\n",
    "                        function(x) counts[[x]] <- 1L + mget(x,counts, ifnotfound=0L)[[1]], \n",
    "                        integer(1)), \n",
    "                        xs\n",
    "        )\n",
    "    }\n",
    "    xs[] <- paste(xs, cumcount(xs), sep=sep)\n",
    "    return(xs)\n",
    "}\n",
    "\n",
    "# time points for hippocampus\n",
    "timep <- as.factor(rep(c(rep(1, 5), rep(2, 5), rep(3, 5), rep(4, 5), rep(5, 5), rep(6, 5)), 2))\n",
    "\n",
    "# get the genes from the patway of interest and order the samples\n",
    "hipp <- dat[rownames(dat) %in% keggGenes[[1]],1:60]\n",
    "hipp <- hipp[,order(timep)]\n",
    "\n",
    "# vector with group indices \n",
    "id <- c(rep(0,5),rep(1,5))\n",
    "\n",
    "# modify the col names of data\n",
    "timep <- timep[order(timep)]\n",
    "colnames(hipp) <- make_uniq(as.character(timep))\n",
    "\n",
    "# set to NA problematic samples\n",
    "hipp[,colnames(dat[,1:60]) %in% prob_samp] <- NA\n",
    "p <- nrow(hipp) # number of genes"
   ]
  },
  {
   "cell_type": "code",
   "execution_count": 422,
   "metadata": {},
   "outputs": [
    {
     "name": "stdout",
     "output_type": "stream",
     "text": [
      "Conducting the nonparanormal (npn) transformation via shrunkun ECDF....done.\n"
     ]
    },
    {
     "data": {
      "text/html": [
       "<style>\n",
       ".list-inline {list-style: none; margin:0; padding: 0}\n",
       ".list-inline>li {display: inline-block}\n",
       ".list-inline>li:not(:last-child)::after {content: \"\\00b7\"; padding: 0 .5ex}\n",
       "</style>\n",
       "<ol class=list-inline><li>29</li><li>6</li><li>10</li></ol>\n"
      ],
      "text/latex": [
       "\\begin{enumerate*}\n",
       "\\item 29\n",
       "\\item 6\n",
       "\\item 10\n",
       "\\end{enumerate*}\n"
      ],
      "text/markdown": [
       "1. 29\n",
       "2. 6\n",
       "3. 10\n",
       "\n",
       "\n"
      ],
      "text/plain": [
       "[1] 29  6 10"
      ]
     },
     "metadata": {},
     "output_type": "display_data"
    }
   ],
   "source": [
    "# Gausianization of the data\n",
    "hipp.npn=huge.npn(hipp)\n",
    "# Convert a longitudinal object into an array.\n",
    "Y <- longitudinal2array(t(hipp.npn))\n",
    "dim(Y)"
   ]
  },
  {
   "cell_type": "code",
   "execution_count": 423,
   "metadata": {},
   "outputs": [],
   "source": [
    "# automatic penalty parameter selection for fused VAR(1)\n",
    "optLambdas <- optPenaltyVAR1fused(Y,\n",
    "                                  id,\n",
    "                                  rep(10^(-10), 3), \n",
    "                                  rep(1000, 3),\n",
    "                                  optimizer=\"nlm\"\n",
    ")"
   ]
  },
  {
   "cell_type": "code",
   "execution_count": 424,
   "metadata": {},
   "outputs": [],
   "source": [
    "# fused ridge ML estimation of multiple VAR(1) model\n",
    "VAR1hats <- ridgeVAR1fused(Y, \n",
    "                           id,\n",
    "                           optLambdas[1],\n",
    "                           optLambdas[2], \n",
    "                           optLambdas[3]\n",
    ")"
   ]
  },
  {
   "cell_type": "code",
   "execution_count": 425,
   "metadata": {},
   "outputs": [],
   "source": [
    "Achow <- VAR1hat$As[1:p,]\n",
    "Ahfd <- VAR1hat$As[(p+1):(2*p),]\n",
    "Phat <- VAR1hat$P\n",
    "rownames(Achow) <- colnames(Achow) <- rownames(Ahfd) <- colnames(Ahfd) <-\n",
    "     rownames(Phat) <- colnames(Phat) <- rownames(hipp)"
   ]
  },
  {
   "cell_type": "code",
   "execution_count": 176,
   "metadata": {
    "scrolled": false
   },
   "outputs": [],
   "source": [
    "if(bool_plot){\n",
    "    edgeHeat(Achow)\n",
    "    edgeHeat(Ahfd)\n",
    "    edgeHeat(Phat)\n",
    "}"
   ]
  },
  {
   "cell_type": "code",
   "execution_count": 177,
   "metadata": {},
   "outputs": [],
   "source": [
    "if(bool_plot){\n",
    "    Achow1 <- matrix(0, p, p) \n",
    "    Achow1[sparsifyVAR1(Achow,\n",
    "                        solve(Phat),\n",
    "                        threshold=\"localFDR\",\n",
    "                        verbose=FALSE)$nonzeros] <- 1 \n",
    "    edgeHeat(Achow1) \n",
    "}"
   ]
  },
  {
   "cell_type": "code",
   "execution_count": 178,
   "metadata": {},
   "outputs": [],
   "source": [
    "if(bool_plot){\n",
    "    Ahfd1 <- matrix(0, p, p) \n",
    "    Ahfd1[sparsifyVAR1(Ahfd,\n",
    "                       solve(Phat), \n",
    "                       threshold=\"localFDR\",\n",
    "                       verbose=FALSE)$nonzeros] <- 1 \n",
    "    edgeHeat(Ahfd1) \n",
    "}"
   ]
  },
  {
   "cell_type": "code",
   "execution_count": 179,
   "metadata": {},
   "outputs": [],
   "source": [
    "if(bool_plot){\n",
    "    Phat1 <- sparsify(Phat,\n",
    "                      threshold=\"localFDR\", \n",
    "                      verbose=FALSE)$sparsePrecision\n",
    "    edgeHeat(Phat1)\n",
    "}"
   ]
  },
  {
   "cell_type": "code",
   "execution_count": 180,
   "metadata": {},
   "outputs": [],
   "source": [
    "if(bool_plot){\n",
    "    graphVAR1(Achow1,\n",
    "              Phat1, \n",
    "              type=\"TSCG\",\n",
    "              nNames=rownames(hipp),\n",
    "              vertex.label.cex=1,\n",
    "              vertex.label.color.T0=\"red\", \n",
    "              vertex.label.color.T1=\"red\",\n",
    "              vertex.size=10\n",
    "    )\n",
    "}"
   ]
  },
  {
   "cell_type": "code",
   "execution_count": 181,
   "metadata": {},
   "outputs": [],
   "source": [
    "if(bool_plot){\n",
    "    graphVAR1(Ahfd1,\n",
    "              Phat1,\n",
    "              type=\"TSCG\",\n",
    "              nNames=rownames(hipp),\n",
    "              vertex.label.cex=1,\n",
    "              vertex.label.color.T0=\"red\", \n",
    "              vertex.label.color.T1=\"red\",\n",
    "              vertex.size=10\n",
    "    )\n",
    "}"
   ]
  },
  {
   "cell_type": "code",
   "execution_count": null,
   "metadata": {},
   "outputs": [],
   "source": []
  }
 ],
 "metadata": {
  "kernelspec": {
   "display_name": "R 3.6.2",
   "language": "R",
   "name": "ir362"
  },
  "language_info": {
   "codemirror_mode": "r",
   "file_extension": ".r",
   "mimetype": "text/x-r-source",
   "name": "R",
   "pygments_lexer": "r",
   "version": "4.0.3"
  }
 },
 "nbformat": 4,
 "nbformat_minor": 4
}
